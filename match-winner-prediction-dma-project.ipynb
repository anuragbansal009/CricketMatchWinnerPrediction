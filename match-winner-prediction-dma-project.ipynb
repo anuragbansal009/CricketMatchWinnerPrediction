{
 "cells": [
  {
   "cell_type": "code",
   "execution_count": 1,
   "id": "01d3e138",
   "metadata": {
    "_cell_guid": "b1076dfc-b9ad-4769-8c92-a6c4dae69d19",
    "_uuid": "8f2839f25d086af736a60e9eeb907d3b93b6e0e5",
    "execution": {
     "iopub.execute_input": "2022-05-31T10:36:45.641501Z",
     "iopub.status.busy": "2022-05-31T10:36:45.640911Z",
     "iopub.status.idle": "2022-05-31T10:36:47.249881Z",
     "shell.execute_reply": "2022-05-31T10:36:47.248842Z"
    },
    "papermill": {
     "duration": 1.645637,
     "end_time": "2022-05-31T10:36:47.252492",
     "exception": false,
     "start_time": "2022-05-31T10:36:45.606855",
     "status": "completed"
    },
    "tags": []
   },
   "outputs": [],
   "source": [
    "# ML Models\n",
    "from sklearn.ensemble import StackingClassifier\n",
    "from sklearn.linear_model import LogisticRegression\n",
    "from sklearn.ensemble import RandomForestClassifier\n",
    "from sklearn.tree import DecisionTreeClassifier\n",
    "from sklearn.neural_network import MLPClassifier\n",
    "from xgboost import XGBClassifier\n",
    "from sklearn.svm import SVC\n",
    "\n",
    "# Grid Search\n",
    "from sklearn.model_selection import GridSearchCV\n",
    "\n",
    "# Encoder\n",
    "from sklearn.preprocessing import LabelEncoder, OrdinalEncoder\n",
    "\n",
    "# Scaling and Imputing\n",
    "from sklearn.impute import KNNImputer\n",
    "from sklearn.preprocessing import MinMaxScaler\n",
    "\n",
    "# Cross Validation\n",
    "from sklearn.model_selection import KFold\n",
    "\n",
    "# Metrics\n",
    "from sklearn import metrics, model_selection\n",
    "from sklearn.metrics import accuracy_score\n",
    "from sklearn.metrics import precision_score\n",
    "from sklearn.metrics import f1_score\n",
    "from sklearn.metrics import recall_score\n",
    "from sklearn.metrics import classification_report\n",
    "from sklearn.metrics import confusion_matrix\n",
    "from sklearn.metrics import mean_squared_error\n",
    "from sklearn.model_selection import cross_val_score\n",
    "\n",
    "# Train test split\n",
    "from sklearn.model_selection import train_test_split\n",
    "\n",
    "# Misc\n",
    "import numpy as np\n",
    "import pandas as pd\n",
    "import missingno as msno\n",
    "import seaborn as sns\n",
    "import matplotlib.pyplot as plt\n",
    "import squarify\n",
    "import pickle\n",
    "\n",
    "# To ignore warinings\n",
    "import warnings\n",
    "warnings.filterwarnings('ignore')\n",
    "\n",
    "# Seed for reproducability\n",
    "seed = 1234\n",
    "np.random.seed(seed)"
   ]
  },
  {
   "cell_type": "markdown",
   "id": "f7fa8b98",
   "metadata": {
    "papermill": {
     "duration": 0.027764,
     "end_time": "2022-05-31T10:36:47.309010",
     "exception": false,
     "start_time": "2022-05-31T10:36:47.281246",
     "status": "completed"
    },
    "tags": []
   },
   "source": [
    "## Data Importing"
   ]
  },
  {
   "cell_type": "code",
   "execution_count": 2,
   "id": "3b44b6cc",
   "metadata": {
    "execution": {
     "iopub.execute_input": "2022-05-31T10:36:47.367449Z",
     "iopub.status.busy": "2022-05-31T10:36:47.366867Z",
     "iopub.status.idle": "2022-05-31T10:36:47.371263Z",
     "shell.execute_reply": "2022-05-31T10:36:47.370629Z"
    },
    "papermill": {
     "duration": 0.035904,
     "end_time": "2022-05-31T10:36:47.373102",
     "exception": false,
     "start_time": "2022-05-31T10:36:47.337198",
     "status": "completed"
    },
    "tags": []
   },
   "outputs": [],
   "source": [
    "matchesHome = '../input/match-winner-prediction-dataset/matchHome.csv'\n",
    "matchesNeutral = '../input/match-winner-prediction-dataset/matchNeutral.csv'"
   ]
  },
  {
   "cell_type": "markdown",
   "id": "2781e709",
   "metadata": {
    "papermill": {
     "duration": 0.027891,
     "end_time": "2022-05-31T10:36:47.429053",
     "exception": false,
     "start_time": "2022-05-31T10:36:47.401162",
     "status": "completed"
    },
    "tags": []
   },
   "source": [
    "## Feature Extraction"
   ]
  },
  {
   "cell_type": "markdown",
   "id": "ff2ed415",
   "metadata": {
    "papermill": {
     "duration": 0.027951,
     "end_time": "2022-05-31T10:36:47.485208",
     "exception": false,
     "start_time": "2022-05-31T10:36:47.457257",
     "status": "completed"
    },
    "tags": []
   },
   "source": [
    "### Creating Features"
   ]
  },
  {
   "cell_type": "code",
   "execution_count": 3,
   "id": "df5f371a",
   "metadata": {
    "execution": {
     "iopub.execute_input": "2022-05-31T10:36:47.543515Z",
     "iopub.status.busy": "2022-05-31T10:36:47.542848Z",
     "iopub.status.idle": "2022-05-31T10:36:48.029657Z",
     "shell.execute_reply": "2022-05-31T10:36:48.028880Z"
    },
    "papermill": {
     "duration": 0.518443,
     "end_time": "2022-05-31T10:36:48.031821",
     "exception": false,
     "start_time": "2022-05-31T10:36:47.513378",
     "status": "completed"
    },
    "tags": []
   },
   "outputs": [],
   "source": [
    "matchesNeut = pd.read_csv(matchesNeutral, low_memory=False)\n",
    "matchesNeut.columns = matchesNeut.columns.str.strip()\n",
    "matchesNeut['isNeutral'] = True\n",
    "\n",
    "matchesHom = pd.read_csv(matchesHome, low_memory=False)\n",
    "matchesHom.columns = matchesHom.columns.str.strip()\n",
    "\n",
    "matchesHom['isNeutral'] = False\n",
    "\n",
    "df = pd.concat([matchesHom, matchesNeut], axis=0, ignore_index=True)\n",
    "df['date'] = pd.to_datetime(df['date'])\n",
    "df = df.sort_values(by='date', ignore_index=True)\n",
    "df = df.reset_index(inplace=False, drop=True)\n",
    "df\n",
    "\n",
    "column_values = df[[\"home\", \"away\"]].values.ravel()\n",
    "unique_values =  pd.unique(column_values)"
   ]
  },
  {
   "cell_type": "code",
   "execution_count": 4,
   "id": "a1bc0a83",
   "metadata": {
    "execution": {
     "iopub.execute_input": "2022-05-31T10:36:48.090868Z",
     "iopub.status.busy": "2022-05-31T10:36:48.090205Z",
     "iopub.status.idle": "2022-05-31T10:36:48.118505Z",
     "shell.execute_reply": "2022-05-31T10:36:48.117542Z"
    },
    "papermill": {
     "duration": 0.061826,
     "end_time": "2022-05-31T10:36:48.121656",
     "exception": false,
     "start_time": "2022-05-31T10:36:48.059830",
     "status": "completed"
    },
    "tags": []
   },
   "outputs": [
    {
     "data": {
      "text/html": [
       "<div>\n",
       "<style scoped>\n",
       "    .dataframe tbody tr th:only-of-type {\n",
       "        vertical-align: middle;\n",
       "    }\n",
       "\n",
       "    .dataframe tbody tr th {\n",
       "        vertical-align: top;\n",
       "    }\n",
       "\n",
       "    .dataframe thead th {\n",
       "        text-align: right;\n",
       "    }\n",
       "</style>\n",
       "<table border=\"1\" class=\"dataframe\">\n",
       "  <thead>\n",
       "    <tr style=\"text-align: right;\">\n",
       "      <th></th>\n",
       "      <th>home</th>\n",
       "      <th>result</th>\n",
       "      <th>margin</th>\n",
       "      <th>ballRemaining</th>\n",
       "      <th>toss</th>\n",
       "      <th>bat</th>\n",
       "      <th>away</th>\n",
       "      <th>ground</th>\n",
       "      <th>date</th>\n",
       "      <th>isNeutral</th>\n",
       "    </tr>\n",
       "  </thead>\n",
       "  <tbody>\n",
       "    <tr>\n",
       "      <th>0</th>\n",
       "      <td>Australia</td>\n",
       "      <td>won</td>\n",
       "      <td>5 wickets</td>\n",
       "      <td>42.0</td>\n",
       "      <td>won</td>\n",
       "      <td>2nd</td>\n",
       "      <td>England</td>\n",
       "      <td>Melbourne</td>\n",
       "      <td>1971-01-05</td>\n",
       "      <td>False</td>\n",
       "    </tr>\n",
       "    <tr>\n",
       "      <th>1</th>\n",
       "      <td>England</td>\n",
       "      <td>won</td>\n",
       "      <td>6 wickets</td>\n",
       "      <td>35.0</td>\n",
       "      <td>lost</td>\n",
       "      <td>2nd</td>\n",
       "      <td>Australia</td>\n",
       "      <td>Manchester</td>\n",
       "      <td>1972-08-24</td>\n",
       "      <td>False</td>\n",
       "    </tr>\n",
       "    <tr>\n",
       "      <th>2</th>\n",
       "      <td>England</td>\n",
       "      <td>lost</td>\n",
       "      <td>5 wickets</td>\n",
       "      <td>21.0</td>\n",
       "      <td>lost</td>\n",
       "      <td>1st</td>\n",
       "      <td>Australia</td>\n",
       "      <td>Lord's</td>\n",
       "      <td>1972-08-26</td>\n",
       "      <td>False</td>\n",
       "    </tr>\n",
       "    <tr>\n",
       "      <th>3</th>\n",
       "      <td>England</td>\n",
       "      <td>won</td>\n",
       "      <td>2 wickets</td>\n",
       "      <td>21.0</td>\n",
       "      <td>won</td>\n",
       "      <td>2nd</td>\n",
       "      <td>Australia</td>\n",
       "      <td>Birmingham</td>\n",
       "      <td>1972-08-28</td>\n",
       "      <td>False</td>\n",
       "    </tr>\n",
       "    <tr>\n",
       "      <th>4</th>\n",
       "      <td>New Zealand</td>\n",
       "      <td>won</td>\n",
       "      <td>22 runs</td>\n",
       "      <td>NaN</td>\n",
       "      <td>lost</td>\n",
       "      <td>1st</td>\n",
       "      <td>Pakistan</td>\n",
       "      <td>Christchurch</td>\n",
       "      <td>1973-02-11</td>\n",
       "      <td>False</td>\n",
       "    </tr>\n",
       "    <tr>\n",
       "      <th>...</th>\n",
       "      <td>...</td>\n",
       "      <td>...</td>\n",
       "      <td>...</td>\n",
       "      <td>...</td>\n",
       "      <td>...</td>\n",
       "      <td>...</td>\n",
       "      <td>...</td>\n",
       "      <td>...</td>\n",
       "      <td>...</td>\n",
       "      <td>...</td>\n",
       "    </tr>\n",
       "    <tr>\n",
       "      <th>4246</th>\n",
       "      <td>Oman</td>\n",
       "      <td>won</td>\n",
       "      <td>7 wickets</td>\n",
       "      <td>35.0</td>\n",
       "      <td>lost</td>\n",
       "      <td>2nd</td>\n",
       "      <td>P.N.G.</td>\n",
       "      <td>Dubai (DSC)</td>\n",
       "      <td>2022-04-12</td>\n",
       "      <td>True</td>\n",
       "    </tr>\n",
       "    <tr>\n",
       "      <th>4247</th>\n",
       "      <td>Scotland</td>\n",
       "      <td>won</td>\n",
       "      <td>123 runs</td>\n",
       "      <td>NaN</td>\n",
       "      <td>won</td>\n",
       "      <td>1st</td>\n",
       "      <td>P.N.G.</td>\n",
       "      <td>Dubai (DSC)</td>\n",
       "      <td>2022-04-13</td>\n",
       "      <td>True</td>\n",
       "    </tr>\n",
       "    <tr>\n",
       "      <th>4248</th>\n",
       "      <td>Scotland</td>\n",
       "      <td>won</td>\n",
       "      <td>2 wickets</td>\n",
       "      <td>1.0</td>\n",
       "      <td>lost</td>\n",
       "      <td>2nd</td>\n",
       "      <td>Oman</td>\n",
       "      <td>Dubai (DSC)</td>\n",
       "      <td>2022-04-15</td>\n",
       "      <td>True</td>\n",
       "    </tr>\n",
       "    <tr>\n",
       "      <th>4249</th>\n",
       "      <td>Oman</td>\n",
       "      <td>won</td>\n",
       "      <td>85 runs</td>\n",
       "      <td>NaN</td>\n",
       "      <td>won</td>\n",
       "      <td>1st</td>\n",
       "      <td>P.N.G.</td>\n",
       "      <td>Dubai (DSC)</td>\n",
       "      <td>2022-04-16</td>\n",
       "      <td>True</td>\n",
       "    </tr>\n",
       "    <tr>\n",
       "      <th>4250</th>\n",
       "      <td>U.S.A.</td>\n",
       "      <td>won</td>\n",
       "      <td>104 runs</td>\n",
       "      <td>NaN</td>\n",
       "      <td>won</td>\n",
       "      <td>1st</td>\n",
       "      <td>Scotland</td>\n",
       "      <td>Pearland</td>\n",
       "      <td>2022-05-28</td>\n",
       "      <td>False</td>\n",
       "    </tr>\n",
       "  </tbody>\n",
       "</table>\n",
       "<p>4251 rows × 10 columns</p>\n",
       "</div>"
      ],
      "text/plain": [
       "             home result     margin  ballRemaining  toss  bat       away  \\\n",
       "0       Australia    won  5 wickets           42.0   won  2nd    England   \n",
       "1         England    won  6 wickets           35.0  lost  2nd  Australia   \n",
       "2         England   lost  5 wickets           21.0  lost  1st  Australia   \n",
       "3         England    won  2 wickets           21.0   won  2nd  Australia   \n",
       "4     New Zealand    won    22 runs            NaN  lost  1st   Pakistan   \n",
       "...           ...    ...        ...            ...   ...  ...        ...   \n",
       "4246         Oman    won  7 wickets           35.0  lost  2nd     P.N.G.   \n",
       "4247     Scotland    won   123 runs            NaN   won  1st     P.N.G.   \n",
       "4248     Scotland    won  2 wickets            1.0  lost  2nd       Oman   \n",
       "4249         Oman    won    85 runs            NaN   won  1st     P.N.G.   \n",
       "4250       U.S.A.    won   104 runs            NaN   won  1st   Scotland   \n",
       "\n",
       "            ground       date  isNeutral  \n",
       "0        Melbourne 1971-01-05      False  \n",
       "1       Manchester 1972-08-24      False  \n",
       "2           Lord's 1972-08-26      False  \n",
       "3       Birmingham 1972-08-28      False  \n",
       "4     Christchurch 1973-02-11      False  \n",
       "...            ...        ...        ...  \n",
       "4246   Dubai (DSC) 2022-04-12       True  \n",
       "4247   Dubai (DSC) 2022-04-13       True  \n",
       "4248   Dubai (DSC) 2022-04-15       True  \n",
       "4249   Dubai (DSC) 2022-04-16       True  \n",
       "4250      Pearland 2022-05-28      False  \n",
       "\n",
       "[4251 rows x 10 columns]"
      ]
     },
     "execution_count": 4,
     "metadata": {},
     "output_type": "execute_result"
    }
   ],
   "source": [
    "df"
   ]
  },
  {
   "cell_type": "code",
   "execution_count": 5,
   "id": "f5cfb68f",
   "metadata": {
    "execution": {
     "iopub.execute_input": "2022-05-31T10:36:48.181091Z",
     "iopub.status.busy": "2022-05-31T10:36:48.180730Z",
     "iopub.status.idle": "2022-05-31T10:36:48.195147Z",
     "shell.execute_reply": "2022-05-31T10:36:48.194378Z"
    },
    "papermill": {
     "duration": 0.046534,
     "end_time": "2022-05-31T10:36:48.197175",
     "exception": false,
     "start_time": "2022-05-31T10:36:48.150641",
     "status": "completed"
    },
    "tags": []
   },
   "outputs": [],
   "source": [
    "df[['margin1','margin2']] = df.margin.str.split(\" \",expand=True)"
   ]
  },
  {
   "cell_type": "code",
   "execution_count": 6,
   "id": "0c800c9f",
   "metadata": {
    "execution": {
     "iopub.execute_input": "2022-05-31T10:36:48.257004Z",
     "iopub.status.busy": "2022-05-31T10:36:48.255973Z",
     "iopub.status.idle": "2022-05-31T10:36:48.267748Z",
     "shell.execute_reply": "2022-05-31T10:36:48.266828Z"
    },
    "papermill": {
     "duration": 0.043878,
     "end_time": "2022-05-31T10:36:48.269865",
     "exception": false,
     "start_time": "2022-05-31T10:36:48.225987",
     "status": "completed"
    },
    "tags": []
   },
   "outputs": [],
   "source": [
    "df.loc[df['margin2'] == \"runs\", 'ballRemaining'] = df['margin1']\n",
    "df[\"ballRemaining\"] = df[\"ballRemaining\"].astype(str).astype(float)"
   ]
  },
  {
   "cell_type": "code",
   "execution_count": 7,
   "id": "d79c9b37",
   "metadata": {
    "execution": {
     "iopub.execute_input": "2022-05-31T10:36:48.328730Z",
     "iopub.status.busy": "2022-05-31T10:36:48.328339Z",
     "iopub.status.idle": "2022-05-31T10:36:48.336017Z",
     "shell.execute_reply": "2022-05-31T10:36:48.335320Z"
    },
    "papermill": {
     "duration": 0.039334,
     "end_time": "2022-05-31T10:36:48.337893",
     "exception": false,
     "start_time": "2022-05-31T10:36:48.298559",
     "status": "completed"
    },
    "tags": []
   },
   "outputs": [],
   "source": [
    "df.drop(['margin1', 'margin2', 'date', 'margin', 'ground'], axis=1, inplace=True)"
   ]
  },
  {
   "cell_type": "code",
   "execution_count": 8,
   "id": "12b5c74b",
   "metadata": {
    "execution": {
     "iopub.execute_input": "2022-05-31T10:36:48.398519Z",
     "iopub.status.busy": "2022-05-31T10:36:48.397856Z",
     "iopub.status.idle": "2022-05-31T10:36:48.405891Z",
     "shell.execute_reply": "2022-05-31T10:36:48.405102Z"
    },
    "papermill": {
     "duration": 0.040677,
     "end_time": "2022-05-31T10:36:48.407866",
     "exception": false,
     "start_time": "2022-05-31T10:36:48.367189",
     "status": "completed"
    },
    "tags": []
   },
   "outputs": [],
   "source": [
    "scaler = MinMaxScaler()\n",
    "df[['ballRemaining']] = scaler.fit_transform(df[['ballRemaining']])"
   ]
  },
  {
   "cell_type": "code",
   "execution_count": 9,
   "id": "373f774c",
   "metadata": {
    "execution": {
     "iopub.execute_input": "2022-05-31T10:36:48.466823Z",
     "iopub.status.busy": "2022-05-31T10:36:48.466443Z",
     "iopub.status.idle": "2022-05-31T10:36:48.483933Z",
     "shell.execute_reply": "2022-05-31T10:36:48.482978Z"
    },
    "papermill": {
     "duration": 0.049405,
     "end_time": "2022-05-31T10:36:48.486186",
     "exception": false,
     "start_time": "2022-05-31T10:36:48.436781",
     "status": "completed"
    },
    "tags": []
   },
   "outputs": [
    {
     "data": {
      "text/html": [
       "<div>\n",
       "<style scoped>\n",
       "    .dataframe tbody tr th:only-of-type {\n",
       "        vertical-align: middle;\n",
       "    }\n",
       "\n",
       "    .dataframe tbody tr th {\n",
       "        vertical-align: top;\n",
       "    }\n",
       "\n",
       "    .dataframe thead th {\n",
       "        text-align: right;\n",
       "    }\n",
       "</style>\n",
       "<table border=\"1\" class=\"dataframe\">\n",
       "  <thead>\n",
       "    <tr style=\"text-align: right;\">\n",
       "      <th></th>\n",
       "      <th>home</th>\n",
       "      <th>result</th>\n",
       "      <th>ballRemaining</th>\n",
       "      <th>toss</th>\n",
       "      <th>bat</th>\n",
       "      <th>away</th>\n",
       "      <th>isNeutral</th>\n",
       "    </tr>\n",
       "  </thead>\n",
       "  <tbody>\n",
       "    <tr>\n",
       "      <th>0</th>\n",
       "      <td>Australia</td>\n",
       "      <td>won</td>\n",
       "      <td>0.144828</td>\n",
       "      <td>won</td>\n",
       "      <td>2nd</td>\n",
       "      <td>England</td>\n",
       "      <td>False</td>\n",
       "    </tr>\n",
       "    <tr>\n",
       "      <th>1</th>\n",
       "      <td>England</td>\n",
       "      <td>won</td>\n",
       "      <td>0.120690</td>\n",
       "      <td>lost</td>\n",
       "      <td>2nd</td>\n",
       "      <td>Australia</td>\n",
       "      <td>False</td>\n",
       "    </tr>\n",
       "    <tr>\n",
       "      <th>2</th>\n",
       "      <td>England</td>\n",
       "      <td>lost</td>\n",
       "      <td>0.072414</td>\n",
       "      <td>lost</td>\n",
       "      <td>1st</td>\n",
       "      <td>Australia</td>\n",
       "      <td>False</td>\n",
       "    </tr>\n",
       "    <tr>\n",
       "      <th>3</th>\n",
       "      <td>England</td>\n",
       "      <td>won</td>\n",
       "      <td>0.072414</td>\n",
       "      <td>won</td>\n",
       "      <td>2nd</td>\n",
       "      <td>Australia</td>\n",
       "      <td>False</td>\n",
       "    </tr>\n",
       "    <tr>\n",
       "      <th>4</th>\n",
       "      <td>New Zealand</td>\n",
       "      <td>won</td>\n",
       "      <td>0.075862</td>\n",
       "      <td>lost</td>\n",
       "      <td>1st</td>\n",
       "      <td>Pakistan</td>\n",
       "      <td>False</td>\n",
       "    </tr>\n",
       "    <tr>\n",
       "      <th>...</th>\n",
       "      <td>...</td>\n",
       "      <td>...</td>\n",
       "      <td>...</td>\n",
       "      <td>...</td>\n",
       "      <td>...</td>\n",
       "      <td>...</td>\n",
       "      <td>...</td>\n",
       "    </tr>\n",
       "    <tr>\n",
       "      <th>4246</th>\n",
       "      <td>Oman</td>\n",
       "      <td>won</td>\n",
       "      <td>0.120690</td>\n",
       "      <td>lost</td>\n",
       "      <td>2nd</td>\n",
       "      <td>P.N.G.</td>\n",
       "      <td>True</td>\n",
       "    </tr>\n",
       "    <tr>\n",
       "      <th>4247</th>\n",
       "      <td>Scotland</td>\n",
       "      <td>won</td>\n",
       "      <td>0.424138</td>\n",
       "      <td>won</td>\n",
       "      <td>1st</td>\n",
       "      <td>P.N.G.</td>\n",
       "      <td>True</td>\n",
       "    </tr>\n",
       "    <tr>\n",
       "      <th>4248</th>\n",
       "      <td>Scotland</td>\n",
       "      <td>won</td>\n",
       "      <td>0.003448</td>\n",
       "      <td>lost</td>\n",
       "      <td>2nd</td>\n",
       "      <td>Oman</td>\n",
       "      <td>True</td>\n",
       "    </tr>\n",
       "    <tr>\n",
       "      <th>4249</th>\n",
       "      <td>Oman</td>\n",
       "      <td>won</td>\n",
       "      <td>0.293103</td>\n",
       "      <td>won</td>\n",
       "      <td>1st</td>\n",
       "      <td>P.N.G.</td>\n",
       "      <td>True</td>\n",
       "    </tr>\n",
       "    <tr>\n",
       "      <th>4250</th>\n",
       "      <td>U.S.A.</td>\n",
       "      <td>won</td>\n",
       "      <td>0.358621</td>\n",
       "      <td>won</td>\n",
       "      <td>1st</td>\n",
       "      <td>Scotland</td>\n",
       "      <td>False</td>\n",
       "    </tr>\n",
       "  </tbody>\n",
       "</table>\n",
       "<p>4251 rows × 7 columns</p>\n",
       "</div>"
      ],
      "text/plain": [
       "             home result  ballRemaining  toss  bat       away  isNeutral\n",
       "0       Australia    won       0.144828   won  2nd    England      False\n",
       "1         England    won       0.120690  lost  2nd  Australia      False\n",
       "2         England   lost       0.072414  lost  1st  Australia      False\n",
       "3         England    won       0.072414   won  2nd  Australia      False\n",
       "4     New Zealand    won       0.075862  lost  1st   Pakistan      False\n",
       "...           ...    ...            ...   ...  ...        ...        ...\n",
       "4246         Oman    won       0.120690  lost  2nd     P.N.G.       True\n",
       "4247     Scotland    won       0.424138   won  1st     P.N.G.       True\n",
       "4248     Scotland    won       0.003448  lost  2nd       Oman       True\n",
       "4249         Oman    won       0.293103   won  1st     P.N.G.       True\n",
       "4250       U.S.A.    won       0.358621   won  1st   Scotland      False\n",
       "\n",
       "[4251 rows x 7 columns]"
      ]
     },
     "execution_count": 9,
     "metadata": {},
     "output_type": "execute_result"
    }
   ],
   "source": [
    "df"
   ]
  },
  {
   "cell_type": "code",
   "execution_count": 10,
   "id": "4c281437",
   "metadata": {
    "execution": {
     "iopub.execute_input": "2022-05-31T10:36:48.546545Z",
     "iopub.status.busy": "2022-05-31T10:36:48.546133Z",
     "iopub.status.idle": "2022-05-31T10:37:13.370215Z",
     "shell.execute_reply": "2022-05-31T10:37:13.368798Z"
    },
    "papermill": {
     "duration": 24.85728,
     "end_time": "2022-05-31T10:37:13.372901",
     "exception": false,
     "start_time": "2022-05-31T10:36:48.515621",
     "status": "completed"
    },
    "tags": []
   },
   "outputs": [],
   "source": [
    "winlast1 = dict.fromkeys(unique_values, 0)\n",
    "winlast2 = dict.fromkeys(unique_values, 0)\n",
    "winlast3 = dict.fromkeys(unique_values, 0)\n",
    "winlast4 = dict.fromkeys(unique_values, 0)\n",
    "winlast5 = dict.fromkeys(unique_values, 0)\n",
    "losslast1 = dict.fromkeys(unique_values, 0)\n",
    "losslast2 = dict.fromkeys(unique_values, 0)\n",
    "losslast3 = dict.fromkeys(unique_values, 0)\n",
    "losslast4 = dict.fromkeys(unique_values, 0)\n",
    "losslast5 = dict.fromkeys(unique_values, 0)\n",
    "drawlast1 = dict.fromkeys(unique_values, 0)\n",
    "drawlast2 = dict.fromkeys(unique_values, 0)\n",
    "drawlast3 = dict.fromkeys(unique_values, 0)\n",
    "drawlast4 = dict.fromkeys(unique_values, 0)\n",
    "drawlast5 = dict.fromkeys(unique_values, 0)\n",
    "\n",
    "lst = [0] * 30\n",
    "# teamName = 'Australia'\n",
    "df[[\n",
    "    'home_last_5_win', 'home_last_4_win', 'home_last_3_win', 'home_last_2_win', 'home_last_1_win', 'away_last_5_win', \n",
    "    'away_last_4_win', 'away_last_3_win', 'away_last_2_win', 'away_last_1_win', 'home_last_5_loss', 'home_last_4_loss', \n",
    "    'home_last_3_loss', 'home_last_2_loss', 'home_last_1_loss', 'away_last_5_loss', 'away_last_4_loss', 'away_last_3_loss', \n",
    "    'away_last_2_loss', 'away_last_1_loss', 'home_last_5_draw', 'home_last_4_draw', 'home_last_3_draw', 'home_last_2_draw', \n",
    "    'home_last_1_draw', 'away_last_5_draw', 'away_last_4_draw', 'away_last_3_draw', 'away_last_2_draw', 'away_last_1_draw'\n",
    "   ]] = pd.DataFrame([lst], index=df.index)\n",
    "\n",
    "for i, row in df.iterrows():\n",
    "    home = row['home']\n",
    "    away = row['away']\n",
    "    result = row['result']\n",
    "\n",
    "    df.loc[i, 'home_last_5_win'] = winlast5[home]\n",
    "    df.loc[i, 'away_last_5_win'] = winlast5[away]\n",
    "    df.loc[i, 'home_last_5_loss'] = losslast5[home]\n",
    "    df.loc[i, 'away_last_5_loss'] = losslast5[away]\n",
    "    df.loc[i, 'home_last_5_draw'] = drawlast5[home]\n",
    "    df.loc[i, 'away_last_5_draw'] = drawlast5[away]\n",
    "    df.loc[i, 'home_last_4_win'] = winlast4[home]\n",
    "    df.loc[i, 'away_last_4_win'] = winlast4[away]\n",
    "    df.loc[i, 'home_last_4_loss'] = losslast4[home]\n",
    "    df.loc[i, 'away_last_4_loss'] = losslast4[away]\n",
    "    df.loc[i, 'home_last_4_draw'] = drawlast4[home]\n",
    "    df.loc[i, 'away_last_4_draw'] = drawlast4[away]\n",
    "    df.loc[i, 'home_last_3_win'] = winlast3[home]\n",
    "    df.loc[i, 'away_last_3_win'] = winlast3[away]\n",
    "    df.loc[i, 'home_last_3_loss'] = losslast3[home]\n",
    "    df.loc[i, 'away_last_3_loss'] = losslast3[away]\n",
    "    df.loc[i, 'home_last_3_draw'] = drawlast3[home]\n",
    "    df.loc[i, 'away_last_3_draw'] = drawlast3[away]\n",
    "    df.loc[i, 'home_last_2_win'] = winlast2[home]\n",
    "    df.loc[i, 'away_last_2_win'] = winlast2[away]\n",
    "    df.loc[i, 'home_last_2_loss'] = losslast2[home]\n",
    "    df.loc[i, 'away_last_2_loss'] = losslast2[away]\n",
    "    df.loc[i, 'home_last_2_draw'] = drawlast2[home]\n",
    "    df.loc[i, 'away_last_2_draw'] = drawlast2[away]\n",
    "    df.loc[i, 'home_last_1_win'] = winlast1[home]\n",
    "    df.loc[i, 'away_last_1_win'] = winlast1[away]\n",
    "    df.loc[i, 'home_last_1_loss'] = losslast1[home]\n",
    "    df.loc[i, 'away_last_1_loss'] = losslast1[away]\n",
    "    df.loc[i, 'home_last_1_draw'] = drawlast1[home]\n",
    "    df.loc[i, 'away_last_1_draw'] = drawlast1[away]\n",
    "    if result == 'won':      \n",
    "        homeWin = 1\n",
    "        awayWin = 0\n",
    "        homeLoss = 0\n",
    "        awayLoss = 1\n",
    "        homeDraw = 0\n",
    "        awayDraw = 0\n",
    "    elif result == 'lost':\n",
    "        homeWin = 0\n",
    "        awayWin = 1\n",
    "        homeLoss = 1\n",
    "        awayLoss = 0\n",
    "        homeDraw = 0\n",
    "        awayDraw = 0\n",
    "    else:\n",
    "        homeWin = 0\n",
    "        awayWin = 0\n",
    "        homeLoss = 0\n",
    "        awayLoss = 0\n",
    "        homeDraw = 1\n",
    "        awayDraw = 1\n",
    "    \n",
    "    winlast5[home] = winlast4[home] + homeWin\n",
    "    winlast4[home] = winlast3[home] + homeWin\n",
    "    winlast3[home] = winlast2[home] + homeWin\n",
    "    winlast2[home] = winlast1[home] + homeWin\n",
    "    winlast1[home] = homeWin\n",
    "    \n",
    "    winlast5[away] = winlast4[away] + awayWin\n",
    "    winlast4[away] = winlast3[away] + awayWin\n",
    "    winlast3[away] = winlast2[away] + awayWin\n",
    "    winlast2[away] = winlast1[away] + awayWin\n",
    "    winlast1[away] = awayWin\n",
    "    \n",
    "    losslast5[home] = losslast4[home] + homeLoss\n",
    "    losslast4[home] = losslast3[home] + homeLoss\n",
    "    losslast3[home] = losslast2[home] + homeLoss\n",
    "    losslast2[home] = losslast1[home] + homeLoss\n",
    "    losslast1[home] = homeLoss\n",
    "\n",
    "    losslast5[away] = losslast4[away] + awayLoss\n",
    "    losslast4[away] = losslast3[away] + awayLoss\n",
    "    losslast3[away] = losslast2[away] + awayLoss\n",
    "    losslast2[away] = losslast1[away] + awayLoss\n",
    "    losslast1[away] = awayLoss\n",
    "\n",
    "    drawlast5[home] = drawlast4[home] + homeDraw\n",
    "    drawlast4[home] = drawlast3[home] + homeDraw\n",
    "    drawlast3[home] = drawlast2[home] + homeDraw\n",
    "    drawlast2[home] = drawlast1[home] + homeDraw\n",
    "    drawlast1[home] = homeDraw\n",
    "\n",
    "    drawlast5[away] = drawlast4[away] + awayDraw\n",
    "    drawlast4[away] = drawlast3[away] + awayDraw\n",
    "    drawlast3[away] = drawlast2[away] + awayDraw\n",
    "    drawlast2[away] = drawlast1[away] + awayDraw\n",
    "    drawlast1[away] = awayDraw"
   ]
  },
  {
   "cell_type": "markdown",
   "id": "a7cad17b",
   "metadata": {
    "papermill": {
     "duration": 0.028698,
     "end_time": "2022-05-31T10:37:13.430789",
     "exception": false,
     "start_time": "2022-05-31T10:37:13.402091",
     "status": "completed"
    },
    "tags": []
   },
   "source": [
    "## Data Analysis"
   ]
  },
  {
   "cell_type": "code",
   "execution_count": 11,
   "id": "e7d35ac6",
   "metadata": {
    "execution": {
     "iopub.execute_input": "2022-05-31T10:37:13.492577Z",
     "iopub.status.busy": "2022-05-31T10:37:13.491584Z",
     "iopub.status.idle": "2022-05-31T10:37:13.806501Z",
     "shell.execute_reply": "2022-05-31T10:37:13.805497Z"
    },
    "papermill": {
     "duration": 0.349158,
     "end_time": "2022-05-31T10:37:13.808912",
     "exception": false,
     "start_time": "2022-05-31T10:37:13.459754",
     "status": "completed"
    },
    "tags": []
   },
   "outputs": [],
   "source": [
    "winners = dict.fromkeys(unique_values, 0)\n",
    "total = dict.fromkeys(unique_values, 0)\n",
    "for i, row in df.iterrows():\n",
    "    total[df.at[i, 'home']] += 1\n",
    "    total[df.at[i, 'away']] += 1\n",
    "    if df.at[i, 'result'] == 'won':\n",
    "        winners[df.at[i, 'home']] += 1\n",
    "    elif df.at[i, 'result'] == 'loss':\n",
    "        winners[df.at[i, 'away']] += 1"
   ]
  },
  {
   "cell_type": "code",
   "execution_count": 12,
   "id": "3d03d704",
   "metadata": {
    "execution": {
     "iopub.execute_input": "2022-05-31T10:37:13.868512Z",
     "iopub.status.busy": "2022-05-31T10:37:13.867983Z",
     "iopub.status.idle": "2022-05-31T10:37:14.299073Z",
     "shell.execute_reply": "2022-05-31T10:37:14.298193Z"
    },
    "papermill": {
     "duration": 0.46327,
     "end_time": "2022-05-31T10:37:14.301170",
     "exception": false,
     "start_time": "2022-05-31T10:37:13.837900",
     "status": "completed"
    },
    "tags": []
   },
   "outputs": [
    {
     "data": {
      "image/png": "[encoded data removed]",
      "text/plain": [
       "<Figure size 1080x720 with 1 Axes>"
      ]
     },
     "metadata": {
      "needs_background": "light"
     },
     "output_type": "display_data"
    }
   ],
   "source": [
    "winners = dict(sorted(winners.items(), key=lambda item: item[1]))\n",
    "names = list(winners.keys())\n",
    "values = list(winners.values())\n",
    "temp = pd.DataFrame(list(zip(names, values)))\n",
    "temp.columns = ['Teams','Wins']\n",
    "plt.figure(figsize=(15,10))\n",
    "plt.barh(temp['Teams'], temp['Wins'], height=0.75, color=sns.color_palette(\"magma\"))\n",
    "plt.xlabel('Wins') \n",
    "plt.title(\"Number of Wins by Each team\")\n",
    "for i, v in enumerate(values):\n",
    "    plt.text(v+1, i, str(v), color='black', fontweight='normal', fontsize=12, ha='left', va='center')\n",
    "plt.show()"
   ]
  },
  {
   "cell_type": "code",
   "execution_count": 13,
   "id": "2659c0a7",
   "metadata": {
    "execution": {
     "iopub.execute_input": "2022-05-31T10:37:14.362939Z",
     "iopub.status.busy": "2022-05-31T10:37:14.362314Z",
     "iopub.status.idle": "2022-05-31T10:37:14.522563Z",
     "shell.execute_reply": "2022-05-31T10:37:14.521474Z"
    },
    "papermill": {
     "duration": 0.195126,
     "end_time": "2022-05-31T10:37:14.526039",
     "exception": false,
     "start_time": "2022-05-31T10:37:14.330913",
     "status": "completed"
    },
    "tags": []
   },
   "outputs": [
    {
     "data": {
      "image/png": "[encoded data removed]",
      "text/plain": [
       "<Figure size 1296x648 with 1 Axes>"
      ]
     },
     "metadata": {
      "needs_background": "light"
     },
     "output_type": "display_data"
    }
   ],
   "source": [
    "temp = temp[temp.Wins > 10]\n",
    "temp['Wins'] = temp['Wins'].astype(int)\n",
    "plt.figure(figsize=(18,9))\n",
    "squarify.plot(sizes=temp['Wins'], label=temp['Teams'], alpha=0.7, color=sns.color_palette(\"viridis\"), text_kwargs={'fontsize':12}).set(title='Tree of Teams with more than 10 wins')\n",
    "plt.axis('off')\n",
    "plt.show()"
   ]
  },
  {
   "cell_type": "code",
   "execution_count": 14,
   "id": "42ee5600",
   "metadata": {
    "execution": {
     "iopub.execute_input": "2022-05-31T10:37:14.589008Z",
     "iopub.status.busy": "2022-05-31T10:37:14.588173Z",
     "iopub.status.idle": "2022-05-31T10:37:15.043357Z",
     "shell.execute_reply": "2022-05-31T10:37:15.042529Z"
    },
    "papermill": {
     "duration": 0.489243,
     "end_time": "2022-05-31T10:37:15.045765",
     "exception": false,
     "start_time": "2022-05-31T10:37:14.556522",
     "status": "completed"
    },
    "tags": []
   },
   "outputs": [
    {
     "data": {
      "image/png": "[encoded data removed]",
      "text/plain": [
       "<Figure size 1080x720 with 1 Axes>"
      ]
     },
     "metadata": {
      "needs_background": "light"
     },
     "output_type": "display_data"
    }
   ],
   "source": [
    "total = dict(sorted(total.items(), key=lambda item: item[1]))\n",
    "namesT = list(total.keys())\n",
    "valuesT = list(total.values())\n",
    "valuesT = [int((int(b) / int(m))*100) for b,m in zip(values, valuesT)]\n",
    "temp = pd.DataFrame(list(zip(namesT, valuesT)))\n",
    "temp.columns = ['Teams','Wins']\n",
    "plt.figure(figsize=(15,10))\n",
    "plt.bar(temp['Teams'], temp['Wins'], width=0.75, color=sns.color_palette(\"rocket\"))\n",
    "plt.xticks(rotation=90)\n",
    "plt.ylabel('Win Percentage') \n",
    "plt.title(\"Win Percentage of Each Team\")\n",
    "for i, v in enumerate(valuesT):\n",
    "    plt.text(i, v+1, str(v) + '%', color='black', fontweight='normal', fontsize=12, ha='center', va='bottom')\n",
    "plt.show()"
   ]
  },
  {
   "cell_type": "markdown",
   "id": "085711cc",
   "metadata": {
    "papermill": {
     "duration": 0.030592,
     "end_time": "2022-05-31T10:37:15.107446",
     "exception": false,
     "start_time": "2022-05-31T10:37:15.076854",
     "status": "completed"
    },
    "tags": []
   },
   "source": [
    "## Handling Categorical Variables"
   ]
  },
  {
   "cell_type": "code",
   "execution_count": 15,
   "id": "a5b9508e",
   "metadata": {
    "execution": {
     "iopub.execute_input": "2022-05-31T10:37:15.171600Z",
     "iopub.status.busy": "2022-05-31T10:37:15.171200Z",
     "iopub.status.idle": "2022-05-31T10:37:15.178836Z",
     "shell.execute_reply": "2022-05-31T10:37:15.178191Z"
    },
    "papermill": {
     "duration": 0.041632,
     "end_time": "2022-05-31T10:37:15.180552",
     "exception": false,
     "start_time": "2022-05-31T10:37:15.138920",
     "status": "completed"
    },
    "tags": []
   },
   "outputs": [
    {
     "data": {
      "text/plain": [
       "['home', 'result', 'toss', 'bat', 'away']"
      ]
     },
     "execution_count": 15,
     "metadata": {},
     "output_type": "execute_result"
    }
   ],
   "source": [
    "cat_cols = [col for col in df.columns if df[col].dtype == 'object']\n",
    "cat_cols"
   ]
  },
  {
   "cell_type": "code",
   "execution_count": 16,
   "id": "6dbcf02c",
   "metadata": {
    "execution": {
     "iopub.execute_input": "2022-05-31T10:37:15.244521Z",
     "iopub.status.busy": "2022-05-31T10:37:15.243869Z",
     "iopub.status.idle": "2022-05-31T10:37:15.258567Z",
     "shell.execute_reply": "2022-05-31T10:37:15.257635Z"
    },
    "papermill": {
     "duration": 0.049131,
     "end_time": "2022-05-31T10:37:15.260739",
     "exception": false,
     "start_time": "2022-05-31T10:37:15.211608",
     "status": "completed"
    },
    "tags": []
   },
   "outputs": [],
   "source": [
    "lb = LabelEncoder()\n",
    "for cat_col in cat_cols:\n",
    "    df.loc[:, cat_col] = lb.fit_transform(np.array(df.loc[:, cat_col]).reshape(-1, ))"
   ]
  },
  {
   "cell_type": "markdown",
   "id": "4961c727",
   "metadata": {
    "papermill": {
     "duration": 0.03081,
     "end_time": "2022-05-31T10:37:15.322804",
     "exception": false,
     "start_time": "2022-05-31T10:37:15.291994",
     "status": "completed"
    },
    "tags": []
   },
   "source": [
    "## Handling Missing Values"
   ]
  },
  {
   "cell_type": "code",
   "execution_count": 17,
   "id": "ac62dcec",
   "metadata": {
    "execution": {
     "iopub.execute_input": "2022-05-31T10:37:15.387279Z",
     "iopub.status.busy": "2022-05-31T10:37:15.386640Z",
     "iopub.status.idle": "2022-05-31T10:37:16.176254Z",
     "shell.execute_reply": "2022-05-31T10:37:16.175345Z"
    },
    "papermill": {
     "duration": 0.824308,
     "end_time": "2022-05-31T10:37:16.178231",
     "exception": false,
     "start_time": "2022-05-31T10:37:15.353923",
     "status": "completed"
    },
    "tags": []
   },
   "outputs": [
    {
     "data": {
      "text/plain": [
       "<AxesSubplot:>"
      ]
     },
     "execution_count": 17,
     "metadata": {},
     "output_type": "execute_result"
    },
    {
     "data": {
      "image/png": "[encoded data removed]",
      "text/plain": [
       "<Figure size 1800x720 with 2 Axes>"
      ]
     },
     "metadata": {
      "needs_background": "light"
     },
     "output_type": "display_data"
    }
   ],
   "source": [
    "msno.matrix(df)"
   ]
  },
  {
   "cell_type": "code",
   "execution_count": 18,
   "id": "baef43fb",
   "metadata": {
    "execution": {
     "iopub.execute_input": "2022-05-31T10:37:16.243945Z",
     "iopub.status.busy": "2022-05-31T10:37:16.243537Z",
     "iopub.status.idle": "2022-05-31T10:37:16.247892Z",
     "shell.execute_reply": "2022-05-31T10:37:16.246946Z"
    },
    "papermill": {
     "duration": 0.039257,
     "end_time": "2022-05-31T10:37:16.249678",
     "exception": false,
     "start_time": "2022-05-31T10:37:16.210421",
     "status": "completed"
    },
    "tags": []
   },
   "outputs": [],
   "source": [
    "knn = KNNImputer(n_neighbors = 3)"
   ]
  },
  {
   "cell_type": "code",
   "execution_count": 19,
   "id": "7eb628ec",
   "metadata": {
    "execution": {
     "iopub.execute_input": "2022-05-31T10:37:16.315177Z",
     "iopub.status.busy": "2022-05-31T10:37:16.314624Z",
     "iopub.status.idle": "2022-05-31T10:37:16.459356Z",
     "shell.execute_reply": "2022-05-31T10:37:16.457589Z"
    },
    "papermill": {
     "duration": 0.181689,
     "end_time": "2022-05-31T10:37:16.463280",
     "exception": false,
     "start_time": "2022-05-31T10:37:16.281591",
     "status": "completed"
    },
    "tags": []
   },
   "outputs": [],
   "source": [
    "knn_imputer = KNNImputer(n_neighbors = 3)\n",
    "\n",
    "df_pre1 = df.copy()\n",
    "\n",
    "X = np.round(knn_imputer.fit_transform(df_pre1))\n",
    "df_pre1 = pd.DataFrame(X, columns = df_pre1.columns)"
   ]
  },
  {
   "cell_type": "code",
   "execution_count": 20,
   "id": "2f250dd6",
   "metadata": {
    "execution": {
     "iopub.execute_input": "2022-05-31T10:37:16.562063Z",
     "iopub.status.busy": "2022-05-31T10:37:16.561345Z",
     "iopub.status.idle": "2022-05-31T10:37:16.613747Z",
     "shell.execute_reply": "2022-05-31T10:37:16.612842Z"
    },
    "papermill": {
     "duration": 0.087816,
     "end_time": "2022-05-31T10:37:16.615856",
     "exception": false,
     "start_time": "2022-05-31T10:37:16.528040",
     "status": "completed"
    },
    "tags": []
   },
   "outputs": [
    {
     "data": {
      "text/html": [
       "<div>\n",
       "<style scoped>\n",
       "    .dataframe tbody tr th:only-of-type {\n",
       "        vertical-align: middle;\n",
       "    }\n",
       "\n",
       "    .dataframe tbody tr th {\n",
       "        vertical-align: top;\n",
       "    }\n",
       "\n",
       "    .dataframe thead th {\n",
       "        text-align: right;\n",
       "    }\n",
       "</style>\n",
       "<table border=\"1\" class=\"dataframe\">\n",
       "  <thead>\n",
       "    <tr style=\"text-align: right;\">\n",
       "      <th></th>\n",
       "      <th>home</th>\n",
       "      <th>result</th>\n",
       "      <th>ballRemaining</th>\n",
       "      <th>toss</th>\n",
       "      <th>bat</th>\n",
       "      <th>away</th>\n",
       "      <th>isNeutral</th>\n",
       "      <th>home_last_5_win</th>\n",
       "      <th>home_last_4_win</th>\n",
       "      <th>home_last_3_win</th>\n",
       "      <th>...</th>\n",
       "      <th>home_last_5_draw</th>\n",
       "      <th>home_last_4_draw</th>\n",
       "      <th>home_last_3_draw</th>\n",
       "      <th>home_last_2_draw</th>\n",
       "      <th>home_last_1_draw</th>\n",
       "      <th>away_last_5_draw</th>\n",
       "      <th>away_last_4_draw</th>\n",
       "      <th>away_last_3_draw</th>\n",
       "      <th>away_last_2_draw</th>\n",
       "      <th>away_last_1_draw</th>\n",
       "    </tr>\n",
       "  </thead>\n",
       "  <tbody>\n",
       "    <tr>\n",
       "      <th>0</th>\n",
       "      <td>3.0</td>\n",
       "      <td>2.0</td>\n",
       "      <td>0.0</td>\n",
       "      <td>2.0</td>\n",
       "      <td>2.0</td>\n",
       "      <td>8.0</td>\n",
       "      <td>0.0</td>\n",
       "      <td>0.0</td>\n",
       "      <td>0.0</td>\n",
       "      <td>0.0</td>\n",
       "      <td>...</td>\n",
       "      <td>0.0</td>\n",
       "      <td>0.0</td>\n",
       "      <td>0.0</td>\n",
       "      <td>0.0</td>\n",
       "      <td>0.0</td>\n",
       "      <td>0.0</td>\n",
       "      <td>0.0</td>\n",
       "      <td>0.0</td>\n",
       "      <td>0.0</td>\n",
       "      <td>0.0</td>\n",
       "    </tr>\n",
       "    <tr>\n",
       "      <th>1</th>\n",
       "      <td>7.0</td>\n",
       "      <td>2.0</td>\n",
       "      <td>0.0</td>\n",
       "      <td>1.0</td>\n",
       "      <td>2.0</td>\n",
       "      <td>3.0</td>\n",
       "      <td>0.0</td>\n",
       "      <td>0.0</td>\n",
       "      <td>0.0</td>\n",
       "      <td>0.0</td>\n",
       "      <td>...</td>\n",
       "      <td>0.0</td>\n",
       "      <td>0.0</td>\n",
       "      <td>0.0</td>\n",
       "      <td>0.0</td>\n",
       "      <td>0.0</td>\n",
       "      <td>0.0</td>\n",
       "      <td>0.0</td>\n",
       "      <td>0.0</td>\n",
       "      <td>0.0</td>\n",
       "      <td>0.0</td>\n",
       "    </tr>\n",
       "    <tr>\n",
       "      <th>2</th>\n",
       "      <td>7.0</td>\n",
       "      <td>0.0</td>\n",
       "      <td>0.0</td>\n",
       "      <td>1.0</td>\n",
       "      <td>1.0</td>\n",
       "      <td>3.0</td>\n",
       "      <td>0.0</td>\n",
       "      <td>1.0</td>\n",
       "      <td>1.0</td>\n",
       "      <td>1.0</td>\n",
       "      <td>...</td>\n",
       "      <td>0.0</td>\n",
       "      <td>0.0</td>\n",
       "      <td>0.0</td>\n",
       "      <td>0.0</td>\n",
       "      <td>0.0</td>\n",
       "      <td>0.0</td>\n",
       "      <td>0.0</td>\n",
       "      <td>0.0</td>\n",
       "      <td>0.0</td>\n",
       "      <td>0.0</td>\n",
       "    </tr>\n",
       "    <tr>\n",
       "      <th>3</th>\n",
       "      <td>7.0</td>\n",
       "      <td>2.0</td>\n",
       "      <td>0.0</td>\n",
       "      <td>2.0</td>\n",
       "      <td>2.0</td>\n",
       "      <td>3.0</td>\n",
       "      <td>0.0</td>\n",
       "      <td>1.0</td>\n",
       "      <td>1.0</td>\n",
       "      <td>1.0</td>\n",
       "      <td>...</td>\n",
       "      <td>0.0</td>\n",
       "      <td>0.0</td>\n",
       "      <td>0.0</td>\n",
       "      <td>0.0</td>\n",
       "      <td>0.0</td>\n",
       "      <td>0.0</td>\n",
       "      <td>0.0</td>\n",
       "      <td>0.0</td>\n",
       "      <td>0.0</td>\n",
       "      <td>0.0</td>\n",
       "    </tr>\n",
       "    <tr>\n",
       "      <th>4</th>\n",
       "      <td>16.0</td>\n",
       "      <td>2.0</td>\n",
       "      <td>0.0</td>\n",
       "      <td>1.0</td>\n",
       "      <td>1.0</td>\n",
       "      <td>20.0</td>\n",
       "      <td>0.0</td>\n",
       "      <td>0.0</td>\n",
       "      <td>0.0</td>\n",
       "      <td>0.0</td>\n",
       "      <td>...</td>\n",
       "      <td>0.0</td>\n",
       "      <td>0.0</td>\n",
       "      <td>0.0</td>\n",
       "      <td>0.0</td>\n",
       "      <td>0.0</td>\n",
       "      <td>0.0</td>\n",
       "      <td>0.0</td>\n",
       "      <td>0.0</td>\n",
       "      <td>0.0</td>\n",
       "      <td>0.0</td>\n",
       "    </tr>\n",
       "    <tr>\n",
       "      <th>...</th>\n",
       "      <td>...</td>\n",
       "      <td>...</td>\n",
       "      <td>...</td>\n",
       "      <td>...</td>\n",
       "      <td>...</td>\n",
       "      <td>...</td>\n",
       "      <td>...</td>\n",
       "      <td>...</td>\n",
       "      <td>...</td>\n",
       "      <td>...</td>\n",
       "      <td>...</td>\n",
       "      <td>...</td>\n",
       "      <td>...</td>\n",
       "      <td>...</td>\n",
       "      <td>...</td>\n",
       "      <td>...</td>\n",
       "      <td>...</td>\n",
       "      <td>...</td>\n",
       "      <td>...</td>\n",
       "      <td>...</td>\n",
       "      <td>...</td>\n",
       "    </tr>\n",
       "    <tr>\n",
       "      <th>4246</th>\n",
       "      <td>17.0</td>\n",
       "      <td>2.0</td>\n",
       "      <td>0.0</td>\n",
       "      <td>1.0</td>\n",
       "      <td>2.0</td>\n",
       "      <td>19.0</td>\n",
       "      <td>1.0</td>\n",
       "      <td>2.0</td>\n",
       "      <td>2.0</td>\n",
       "      <td>1.0</td>\n",
       "      <td>...</td>\n",
       "      <td>0.0</td>\n",
       "      <td>0.0</td>\n",
       "      <td>0.0</td>\n",
       "      <td>0.0</td>\n",
       "      <td>0.0</td>\n",
       "      <td>0.0</td>\n",
       "      <td>0.0</td>\n",
       "      <td>0.0</td>\n",
       "      <td>0.0</td>\n",
       "      <td>0.0</td>\n",
       "    </tr>\n",
       "    <tr>\n",
       "      <th>4247</th>\n",
       "      <td>20.0</td>\n",
       "      <td>2.0</td>\n",
       "      <td>0.0</td>\n",
       "      <td>2.0</td>\n",
       "      <td>1.0</td>\n",
       "      <td>19.0</td>\n",
       "      <td>1.0</td>\n",
       "      <td>5.0</td>\n",
       "      <td>4.0</td>\n",
       "      <td>3.0</td>\n",
       "      <td>...</td>\n",
       "      <td>0.0</td>\n",
       "      <td>0.0</td>\n",
       "      <td>0.0</td>\n",
       "      <td>0.0</td>\n",
       "      <td>0.0</td>\n",
       "      <td>0.0</td>\n",
       "      <td>0.0</td>\n",
       "      <td>0.0</td>\n",
       "      <td>0.0</td>\n",
       "      <td>0.0</td>\n",
       "    </tr>\n",
       "    <tr>\n",
       "      <th>4248</th>\n",
       "      <td>20.0</td>\n",
       "      <td>2.0</td>\n",
       "      <td>0.0</td>\n",
       "      <td>1.0</td>\n",
       "      <td>2.0</td>\n",
       "      <td>18.0</td>\n",
       "      <td>1.0</td>\n",
       "      <td>5.0</td>\n",
       "      <td>4.0</td>\n",
       "      <td>3.0</td>\n",
       "      <td>...</td>\n",
       "      <td>0.0</td>\n",
       "      <td>0.0</td>\n",
       "      <td>0.0</td>\n",
       "      <td>0.0</td>\n",
       "      <td>0.0</td>\n",
       "      <td>0.0</td>\n",
       "      <td>0.0</td>\n",
       "      <td>0.0</td>\n",
       "      <td>0.0</td>\n",
       "      <td>0.0</td>\n",
       "    </tr>\n",
       "    <tr>\n",
       "      <th>4249</th>\n",
       "      <td>17.0</td>\n",
       "      <td>2.0</td>\n",
       "      <td>0.0</td>\n",
       "      <td>2.0</td>\n",
       "      <td>1.0</td>\n",
       "      <td>19.0</td>\n",
       "      <td>1.0</td>\n",
       "      <td>2.0</td>\n",
       "      <td>1.0</td>\n",
       "      <td>1.0</td>\n",
       "      <td>...</td>\n",
       "      <td>0.0</td>\n",
       "      <td>0.0</td>\n",
       "      <td>0.0</td>\n",
       "      <td>0.0</td>\n",
       "      <td>0.0</td>\n",
       "      <td>0.0</td>\n",
       "      <td>0.0</td>\n",
       "      <td>0.0</td>\n",
       "      <td>0.0</td>\n",
       "      <td>0.0</td>\n",
       "    </tr>\n",
       "    <tr>\n",
       "      <th>4250</th>\n",
       "      <td>24.0</td>\n",
       "      <td>2.0</td>\n",
       "      <td>0.0</td>\n",
       "      <td>2.0</td>\n",
       "      <td>1.0</td>\n",
       "      <td>21.0</td>\n",
       "      <td>0.0</td>\n",
       "      <td>2.0</td>\n",
       "      <td>1.0</td>\n",
       "      <td>1.0</td>\n",
       "      <td>...</td>\n",
       "      <td>0.0</td>\n",
       "      <td>0.0</td>\n",
       "      <td>0.0</td>\n",
       "      <td>0.0</td>\n",
       "      <td>0.0</td>\n",
       "      <td>0.0</td>\n",
       "      <td>0.0</td>\n",
       "      <td>0.0</td>\n",
       "      <td>0.0</td>\n",
       "      <td>0.0</td>\n",
       "    </tr>\n",
       "  </tbody>\n",
       "</table>\n",
       "<p>4251 rows × 37 columns</p>\n",
       "</div>"
      ],
      "text/plain": [
       "      home  result  ballRemaining  toss  bat  away  isNeutral  \\\n",
       "0      3.0     2.0            0.0   2.0  2.0   8.0        0.0   \n",
       "1      7.0     2.0            0.0   1.0  2.0   3.0        0.0   \n",
       "2      7.0     0.0            0.0   1.0  1.0   3.0        0.0   \n",
       "3      7.0     2.0            0.0   2.0  2.0   3.0        0.0   \n",
       "4     16.0     2.0            0.0   1.0  1.0  20.0        0.0   \n",
       "...    ...     ...            ...   ...  ...   ...        ...   \n",
       "4246  17.0     2.0            0.0   1.0  2.0  19.0        1.0   \n",
       "4247  20.0     2.0            0.0   2.0  1.0  19.0        1.0   \n",
       "4248  20.0     2.0            0.0   1.0  2.0  18.0        1.0   \n",
       "4249  17.0     2.0            0.0   2.0  1.0  19.0        1.0   \n",
       "4250  24.0     2.0            0.0   2.0  1.0  21.0        0.0   \n",
       "\n",
       "      home_last_5_win  home_last_4_win  home_last_3_win  ...  \\\n",
       "0                 0.0              0.0              0.0  ...   \n",
       "1                 0.0              0.0              0.0  ...   \n",
       "2                 1.0              1.0              1.0  ...   \n",
       "3                 1.0              1.0              1.0  ...   \n",
       "4                 0.0              0.0              0.0  ...   \n",
       "...               ...              ...              ...  ...   \n",
       "4246              2.0              2.0              1.0  ...   \n",
       "4247              5.0              4.0              3.0  ...   \n",
       "4248              5.0              4.0              3.0  ...   \n",
       "4249              2.0              1.0              1.0  ...   \n",
       "4250              2.0              1.0              1.0  ...   \n",
       "\n",
       "      home_last_5_draw  home_last_4_draw  home_last_3_draw  home_last_2_draw  \\\n",
       "0                  0.0               0.0               0.0               0.0   \n",
       "1                  0.0               0.0               0.0               0.0   \n",
       "2                  0.0               0.0               0.0               0.0   \n",
       "3                  0.0               0.0               0.0               0.0   \n",
       "4                  0.0               0.0               0.0               0.0   \n",
       "...                ...               ...               ...               ...   \n",
       "4246               0.0               0.0               0.0               0.0   \n",
       "4247               0.0               0.0               0.0               0.0   \n",
       "4248               0.0               0.0               0.0               0.0   \n",
       "4249               0.0               0.0               0.0               0.0   \n",
       "4250               0.0               0.0               0.0               0.0   \n",
       "\n",
       "      home_last_1_draw  away_last_5_draw  away_last_4_draw  away_last_3_draw  \\\n",
       "0                  0.0               0.0               0.0               0.0   \n",
       "1                  0.0               0.0               0.0               0.0   \n",
       "2                  0.0               0.0               0.0               0.0   \n",
       "3                  0.0               0.0               0.0               0.0   \n",
       "4                  0.0               0.0               0.0               0.0   \n",
       "...                ...               ...               ...               ...   \n",
       "4246               0.0               0.0               0.0               0.0   \n",
       "4247               0.0               0.0               0.0               0.0   \n",
       "4248               0.0               0.0               0.0               0.0   \n",
       "4249               0.0               0.0               0.0               0.0   \n",
       "4250               0.0               0.0               0.0               0.0   \n",
       "\n",
       "      away_last_2_draw  away_last_1_draw  \n",
       "0                  0.0               0.0  \n",
       "1                  0.0               0.0  \n",
       "2                  0.0               0.0  \n",
       "3                  0.0               0.0  \n",
       "4                  0.0               0.0  \n",
       "...                ...               ...  \n",
       "4246               0.0               0.0  \n",
       "4247               0.0               0.0  \n",
       "4248               0.0               0.0  \n",
       "4249               0.0               0.0  \n",
       "4250               0.0               0.0  \n",
       "\n",
       "[4251 rows x 37 columns]"
      ]
     },
     "execution_count": 20,
     "metadata": {},
     "output_type": "execute_result"
    }
   ],
   "source": [
    "df_pre1"
   ]
  },
  {
   "cell_type": "code",
   "execution_count": 21,
   "id": "b06363df",
   "metadata": {
    "execution": {
     "iopub.execute_input": "2022-05-31T10:37:16.687247Z",
     "iopub.status.busy": "2022-05-31T10:37:16.686186Z",
     "iopub.status.idle": "2022-05-31T10:37:16.707227Z",
     "shell.execute_reply": "2022-05-31T10:37:16.706366Z"
    },
    "papermill": {
     "duration": 0.059808,
     "end_time": "2022-05-31T10:37:16.709618",
     "exception": false,
     "start_time": "2022-05-31T10:37:16.649810",
     "status": "completed"
    },
    "tags": []
   },
   "outputs": [
    {
     "name": "stdout",
     "output_type": "stream",
     "text": [
      "<class 'pandas.core.frame.DataFrame'>\n",
      "RangeIndex: 4251 entries, 0 to 4250\n",
      "Data columns (total 37 columns):\n",
      " #   Column            Non-Null Count  Dtype  \n",
      "---  ------            --------------  -----  \n",
      " 0   home              4251 non-null   float64\n",
      " 1   result            4251 non-null   float64\n",
      " 2   ballRemaining     4251 non-null   float64\n",
      " 3   toss              4251 non-null   float64\n",
      " 4   bat               4251 non-null   float64\n",
      " 5   away              4251 non-null   float64\n",
      " 6   isNeutral         4251 non-null   float64\n",
      " 7   home_last_5_win   4251 non-null   float64\n",
      " 8   home_last_4_win   4251 non-null   float64\n",
      " 9   home_last_3_win   4251 non-null   float64\n",
      " 10  home_last_2_win   4251 non-null   float64\n",
      " 11  home_last_1_win   4251 non-null   float64\n",
      " 12  away_last_5_win   4251 non-null   float64\n",
      " 13  away_last_4_win   4251 non-null   float64\n",
      " 14  away_last_3_win   4251 non-null   float64\n",
      " 15  away_last_2_win   4251 non-null   float64\n",
      " 16  away_last_1_win   4251 non-null   float64\n",
      " 17  home_last_5_loss  4251 non-null   float64\n",
      " 18  home_last_4_loss  4251 non-null   float64\n",
      " 19  home_last_3_loss  4251 non-null   float64\n",
      " 20  home_last_2_loss  4251 non-null   float64\n",
      " 21  home_last_1_loss  4251 non-null   float64\n",
      " 22  away_last_5_loss  4251 non-null   float64\n",
      " 23  away_last_4_loss  4251 non-null   float64\n",
      " 24  away_last_3_loss  4251 non-null   float64\n",
      " 25  away_last_2_loss  4251 non-null   float64\n",
      " 26  away_last_1_loss  4251 non-null   float64\n",
      " 27  home_last_5_draw  4251 non-null   float64\n",
      " 28  home_last_4_draw  4251 non-null   float64\n",
      " 29  home_last_3_draw  4251 non-null   float64\n",
      " 30  home_last_2_draw  4251 non-null   float64\n",
      " 31  home_last_1_draw  4251 non-null   float64\n",
      " 32  away_last_5_draw  4251 non-null   float64\n",
      " 33  away_last_4_draw  4251 non-null   float64\n",
      " 34  away_last_3_draw  4251 non-null   float64\n",
      " 35  away_last_2_draw  4251 non-null   float64\n",
      " 36  away_last_1_draw  4251 non-null   float64\n",
      "dtypes: float64(37)\n",
      "memory usage: 1.2 MB\n"
     ]
    }
   ],
   "source": [
    "df_pre1.info()"
   ]
  },
  {
   "cell_type": "markdown",
   "id": "e132a918",
   "metadata": {
    "papermill": {
     "duration": 0.037906,
     "end_time": "2022-05-31T10:37:16.794136",
     "exception": false,
     "start_time": "2022-05-31T10:37:16.756230",
     "status": "completed"
    },
    "tags": []
   },
   "source": [
    "## Test-Train_Validation Split"
   ]
  },
  {
   "cell_type": "code",
   "execution_count": 22,
   "id": "371a0b6f",
   "metadata": {
    "execution": {
     "iopub.execute_input": "2022-05-31T10:37:16.862889Z",
     "iopub.status.busy": "2022-05-31T10:37:16.862144Z",
     "iopub.status.idle": "2022-05-31T10:37:16.869312Z",
     "shell.execute_reply": "2022-05-31T10:37:16.868621Z"
    },
    "papermill": {
     "duration": 0.043479,
     "end_time": "2022-05-31T10:37:16.871298",
     "exception": false,
     "start_time": "2022-05-31T10:37:16.827819",
     "status": "completed"
    },
    "tags": []
   },
   "outputs": [],
   "source": [
    "X = df_pre1.drop(columns = ['result']).copy()\n",
    "y = df_pre1[['result']]"
   ]
  },
  {
   "cell_type": "code",
   "execution_count": 23,
   "id": "6a74e0f7",
   "metadata": {
    "execution": {
     "iopub.execute_input": "2022-05-31T10:37:16.939581Z",
     "iopub.status.busy": "2022-05-31T10:37:16.938865Z",
     "iopub.status.idle": "2022-05-31T10:37:16.946953Z",
     "shell.execute_reply": "2022-05-31T10:37:16.946313Z"
    },
    "papermill": {
     "duration": 0.044712,
     "end_time": "2022-05-31T10:37:16.949053",
     "exception": false,
     "start_time": "2022-05-31T10:37:16.904341",
     "status": "completed"
    },
    "tags": []
   },
   "outputs": [],
   "source": [
    "X_train, X_rem, y_train, y_rem = train_test_split(X,y, train_size=0.8)\n",
    "test_size = 0.5\n",
    "X_val, X_test, y_val, y_test = train_test_split(X_rem,y_rem, test_size=0.5)"
   ]
  },
  {
   "cell_type": "markdown",
   "id": "58eca3af",
   "metadata": {
    "papermill": {
     "duration": 0.032783,
     "end_time": "2022-05-31T10:37:17.014757",
     "exception": false,
     "start_time": "2022-05-31T10:37:16.981974",
     "status": "completed"
    },
    "tags": []
   },
   "source": [
    "## Implementation using Logistic Regression"
   ]
  },
  {
   "cell_type": "markdown",
   "id": "d5f9814d",
   "metadata": {
    "papermill": {
     "duration": 0.032399,
     "end_time": "2022-05-31T10:37:17.080215",
     "exception": false,
     "start_time": "2022-05-31T10:37:17.047816",
     "status": "completed"
    },
    "tags": []
   },
   "source": [
    "### Hyperparameter tuning using Grid Search and Cross Validation"
   ]
  },
  {
   "cell_type": "code",
   "execution_count": 24,
   "id": "150276c7",
   "metadata": {
    "execution": {
     "iopub.execute_input": "2022-05-31T10:37:17.147804Z",
     "iopub.status.busy": "2022-05-31T10:37:17.147073Z",
     "iopub.status.idle": "2022-05-31T10:37:17.152040Z",
     "shell.execute_reply": "2022-05-31T10:37:17.151393Z"
    },
    "papermill": {
     "duration": 0.04095,
     "end_time": "2022-05-31T10:37:17.153988",
     "exception": false,
     "start_time": "2022-05-31T10:37:17.113038",
     "status": "completed"
    },
    "tags": []
   },
   "outputs": [],
   "source": [
    "parameters = {'penalty': ['l1', 'l2'], 'solver': ['liblinear', 'saga'], 'max_iter': [50, 100, 200]}"
   ]
  },
  {
   "cell_type": "markdown",
   "id": "4fc01cdf",
   "metadata": {
    "papermill": {
     "duration": 0.03255,
     "end_time": "2022-05-31T10:37:17.219517",
     "exception": false,
     "start_time": "2022-05-31T10:37:17.186967",
     "status": "completed"
    },
    "tags": []
   },
   "source": [
    "### Training Model"
   ]
  },
  {
   "cell_type": "code",
   "execution_count": 25,
   "id": "bc986539",
   "metadata": {
    "execution": {
     "iopub.execute_input": "2022-05-31T10:37:17.288555Z",
     "iopub.status.busy": "2022-05-31T10:37:17.286987Z",
     "iopub.status.idle": "2022-05-31T10:37:55.796327Z",
     "shell.execute_reply": "2022-05-31T10:37:55.795261Z"
    },
    "papermill": {
     "duration": 38.578601,
     "end_time": "2022-05-31T10:37:55.831077",
     "exception": false,
     "start_time": "2022-05-31T10:37:17.252476",
     "status": "completed"
    },
    "tags": []
   },
   "outputs": [
    {
     "data": {
      "text/plain": [
       "GridSearchCV(cv=10, estimator=LogisticRegression(),\n",
       "             param_grid={'max_iter': [50, 100, 200], 'penalty': ['l1', 'l2'],\n",
       "                         'solver': ['liblinear', 'saga']})"
      ]
     },
     "execution_count": 25,
     "metadata": {},
     "output_type": "execute_result"
    }
   ],
   "source": [
    "logreg_cv = GridSearchCV(LogisticRegression(), parameters, cv=10)\n",
    "logreg_cv.fit(X_train,y_train)"
   ]
  },
  {
   "cell_type": "markdown",
   "id": "749e12ae",
   "metadata": {
    "papermill": {
     "duration": 0.032954,
     "end_time": "2022-05-31T10:37:55.897219",
     "exception": false,
     "start_time": "2022-05-31T10:37:55.864265",
     "status": "completed"
    },
    "tags": []
   },
   "source": [
    "### Accuracy"
   ]
  },
  {
   "cell_type": "code",
   "execution_count": 26,
   "id": "9db22d3b",
   "metadata": {
    "execution": {
     "iopub.execute_input": "2022-05-31T10:37:55.966519Z",
     "iopub.status.busy": "2022-05-31T10:37:55.965881Z",
     "iopub.status.idle": "2022-05-31T10:37:55.971943Z",
     "shell.execute_reply": "2022-05-31T10:37:55.970966Z"
    },
    "papermill": {
     "duration": 0.04364,
     "end_time": "2022-05-31T10:37:55.974677",
     "exception": false,
     "start_time": "2022-05-31T10:37:55.931037",
     "status": "completed"
    },
    "tags": []
   },
   "outputs": [
    {
     "name": "stdout",
     "output_type": "stream",
     "text": [
      "Accuracy: 0.7244117647058823\n",
      "Best penalty: l1\n",
      "Best Max Iterations: 50\n",
      "Best Solver: liblinear\n"
     ]
    }
   ],
   "source": [
    "print(\"Accuracy:\",logreg_cv.best_score_)\n",
    "print(\"Best penalty:\",logreg_cv.best_estimator_.penalty)\n",
    "print(\"Best Max Iterations:\",logreg_cv.best_estimator_.max_iter)\n",
    "print(\"Best Solver:\",logreg_cv.best_estimator_.solver)"
   ]
  },
  {
   "cell_type": "code",
   "execution_count": 27,
   "id": "0601c446",
   "metadata": {
    "execution": {
     "iopub.execute_input": "2022-05-31T10:37:56.045802Z",
     "iopub.status.busy": "2022-05-31T10:37:56.044700Z",
     "iopub.status.idle": "2022-05-31T10:37:56.051378Z",
     "shell.execute_reply": "2022-05-31T10:37:56.050652Z"
    },
    "papermill": {
     "duration": 0.044347,
     "end_time": "2022-05-31T10:37:56.053514",
     "exception": false,
     "start_time": "2022-05-31T10:37:56.009167",
     "status": "completed"
    },
    "tags": []
   },
   "outputs": [],
   "source": [
    "classifierLR = logreg_cv.best_estimator_\n",
    "Y_pred = classifierLR.predict(X_test)"
   ]
  },
  {
   "cell_type": "markdown",
   "id": "05f8f687",
   "metadata": {
    "papermill": {
     "duration": 0.033525,
     "end_time": "2022-05-31T10:37:56.120838",
     "exception": false,
     "start_time": "2022-05-31T10:37:56.087313",
     "status": "completed"
    },
    "tags": []
   },
   "source": [
    "### Confusion Matrix"
   ]
  },
  {
   "cell_type": "code",
   "execution_count": 28,
   "id": "43c55fa6",
   "metadata": {
    "execution": {
     "iopub.execute_input": "2022-05-31T10:37:56.190547Z",
     "iopub.status.busy": "2022-05-31T10:37:56.189762Z",
     "iopub.status.idle": "2022-05-31T10:37:56.195187Z",
     "shell.execute_reply": "2022-05-31T10:37:56.194494Z"
    },
    "papermill": {
     "duration": 0.042988,
     "end_time": "2022-05-31T10:37:56.197175",
     "exception": false,
     "start_time": "2022-05-31T10:37:56.154187",
     "status": "completed"
    },
    "tags": []
   },
   "outputs": [],
   "source": [
    "# Making the Confusion Matrix\n",
    "cm = confusion_matrix(y_test, Y_pred)"
   ]
  },
  {
   "cell_type": "code",
   "execution_count": 29,
   "id": "e711f290",
   "metadata": {
    "execution": {
     "iopub.execute_input": "2022-05-31T10:37:56.266962Z",
     "iopub.status.busy": "2022-05-31T10:37:56.266315Z",
     "iopub.status.idle": "2022-05-31T10:37:56.494653Z",
     "shell.execute_reply": "2022-05-31T10:37:56.493593Z"
    },
    "papermill": {
     "duration": 0.265795,
     "end_time": "2022-05-31T10:37:56.496911",
     "exception": false,
     "start_time": "2022-05-31T10:37:56.231116",
     "status": "completed"
    },
    "tags": []
   },
   "outputs": [
    {
     "data": {
      "text/plain": [
       "<AxesSubplot:>"
      ]
     },
     "execution_count": 29,
     "metadata": {},
     "output_type": "execute_result"
    },
    {
     "data": {
      "image/png": "[encoded data removed]",
      "text/plain": [
       "<Figure size 432x288 with 2 Axes>"
      ]
     },
     "metadata": {
      "needs_background": "light"
     },
     "output_type": "display_data"
    }
   ],
   "source": [
    "sns.heatmap(cm, annot=True,fmt='d')"
   ]
  },
  {
   "cell_type": "markdown",
   "id": "084cf67a",
   "metadata": {
    "papermill": {
     "duration": 0.033624,
     "end_time": "2022-05-31T10:37:56.564458",
     "exception": false,
     "start_time": "2022-05-31T10:37:56.530834",
     "status": "completed"
    },
    "tags": []
   },
   "source": [
    "### Classification Report"
   ]
  },
  {
   "cell_type": "code",
   "execution_count": 30,
   "id": "f26621d4",
   "metadata": {
    "execution": {
     "iopub.execute_input": "2022-05-31T10:37:56.634639Z",
     "iopub.status.busy": "2022-05-31T10:37:56.633822Z",
     "iopub.status.idle": "2022-05-31T10:37:56.645815Z",
     "shell.execute_reply": "2022-05-31T10:37:56.644568Z"
    },
    "papermill": {
     "duration": 0.049605,
     "end_time": "2022-05-31T10:37:56.647937",
     "exception": false,
     "start_time": "2022-05-31T10:37:56.598332",
     "status": "completed"
    },
    "tags": []
   },
   "outputs": [
    {
     "name": "stdout",
     "output_type": "stream",
     "text": [
      "              precision    recall  f1-score   support\n",
      "\n",
      "         0.0       0.51      0.34      0.41       129\n",
      "         1.0       0.00      0.00      0.00         9\n",
      "         2.0       0.73      0.86      0.79       288\n",
      "\n",
      "    accuracy                           0.69       426\n",
      "   macro avg       0.41      0.40      0.40       426\n",
      "weighted avg       0.65      0.69      0.66       426\n",
      "\n"
     ]
    }
   ],
   "source": [
    "print(classification_report(y_test, Y_pred))"
   ]
  },
  {
   "cell_type": "code",
   "execution_count": 31,
   "id": "559ad82f",
   "metadata": {
    "execution": {
     "iopub.execute_input": "2022-05-31T10:37:56.719921Z",
     "iopub.status.busy": "2022-05-31T10:37:56.719481Z",
     "iopub.status.idle": "2022-05-31T10:37:56.733894Z",
     "shell.execute_reply": "2022-05-31T10:37:56.732788Z"
    },
    "papermill": {
     "duration": 0.055056,
     "end_time": "2022-05-31T10:37:56.737717",
     "exception": false,
     "start_time": "2022-05-31T10:37:56.682661",
     "status": "completed"
    },
    "tags": []
   },
   "outputs": [
    {
     "name": "stdout",
     "output_type": "stream",
     "text": [
      "Training Score:  0.7338235294117647\n",
      "Testing Score:  0.6854460093896714\n"
     ]
    }
   ],
   "source": [
    "print(\"Training Score: \", classifierLR.score(X_train, y_train))\n",
    "print(\"Testing Score: \", classifierLR.score(X_test, y_test))"
   ]
  },
  {
   "cell_type": "markdown",
   "id": "7331eb77",
   "metadata": {
    "papermill": {
     "duration": 0.05499,
     "end_time": "2022-05-31T10:37:56.858344",
     "exception": false,
     "start_time": "2022-05-31T10:37:56.803354",
     "status": "completed"
    },
    "tags": []
   },
   "source": [
    "### K Fold Cross Validation"
   ]
  },
  {
   "cell_type": "code",
   "execution_count": 32,
   "id": "08a099cc",
   "metadata": {
    "execution": {
     "iopub.execute_input": "2022-05-31T10:37:56.928256Z",
     "iopub.status.busy": "2022-05-31T10:37:56.927870Z",
     "iopub.status.idle": "2022-05-31T10:37:57.102937Z",
     "shell.execute_reply": "2022-05-31T10:37:57.101804Z"
    },
    "papermill": {
     "duration": 0.212681,
     "end_time": "2022-05-31T10:37:57.105364",
     "exception": false,
     "start_time": "2022-05-31T10:37:56.892683",
     "status": "completed"
    },
    "tags": []
   },
   "outputs": [
    {
     "name": "stdout",
     "output_type": "stream",
     "text": [
      "Accuracy: 71.28 %\n",
      "Standard Deviation: 7.11 %\n"
     ]
    }
   ],
   "source": [
    "accuracies = cross_val_score(estimator = classifierLR, X = X_val, y = y_val, cv = 10)\n",
    "print(\"Accuracy: {:.2f} %\".format(accuracies.mean()*100))\n",
    "print(\"Standard Deviation: {:.2f} %\".format(accuracies.std()*100))"
   ]
  },
  {
   "cell_type": "markdown",
   "id": "da4e8b21",
   "metadata": {
    "papermill": {
     "duration": 0.034361,
     "end_time": "2022-05-31T10:37:57.173524",
     "exception": false,
     "start_time": "2022-05-31T10:37:57.139163",
     "status": "completed"
    },
    "tags": []
   },
   "source": [
    "## Implementation using SVM"
   ]
  },
  {
   "cell_type": "markdown",
   "id": "31d6aed5",
   "metadata": {
    "papermill": {
     "duration": 0.034069,
     "end_time": "2022-05-31T10:37:57.241513",
     "exception": false,
     "start_time": "2022-05-31T10:37:57.207444",
     "status": "completed"
    },
    "tags": []
   },
   "source": [
    "### Hyperparameter tuning using Grid Search and Cross Validation"
   ]
  },
  {
   "cell_type": "code",
   "execution_count": 33,
   "id": "36b5c190",
   "metadata": {
    "execution": {
     "iopub.execute_input": "2022-05-31T10:37:57.310915Z",
     "iopub.status.busy": "2022-05-31T10:37:57.310509Z",
     "iopub.status.idle": "2022-05-31T10:37:57.315229Z",
     "shell.execute_reply": "2022-05-31T10:37:57.314359Z"
    },
    "papermill": {
     "duration": 0.042256,
     "end_time": "2022-05-31T10:37:57.317370",
     "exception": false,
     "start_time": "2022-05-31T10:37:57.275114",
     "status": "completed"
    },
    "tags": []
   },
   "outputs": [],
   "source": [
    "parameters = {'kernel': ['linear', 'rbf'], 'gamma': ['scale']}"
   ]
  },
  {
   "cell_type": "markdown",
   "id": "386209ab",
   "metadata": {
    "papermill": {
     "duration": 0.034161,
     "end_time": "2022-05-31T10:37:57.386397",
     "exception": false,
     "start_time": "2022-05-31T10:37:57.352236",
     "status": "completed"
    },
    "tags": []
   },
   "source": [
    "### Training Model"
   ]
  },
  {
   "cell_type": "code",
   "execution_count": 34,
   "id": "e6270cec",
   "metadata": {
    "execution": {
     "iopub.execute_input": "2022-05-31T10:37:57.455914Z",
     "iopub.status.busy": "2022-05-31T10:37:57.454980Z",
     "iopub.status.idle": "2022-05-31T10:38:15.141478Z",
     "shell.execute_reply": "2022-05-31T10:38:15.140535Z"
    },
    "papermill": {
     "duration": 17.723511,
     "end_time": "2022-05-31T10:38:15.143561",
     "exception": false,
     "start_time": "2022-05-31T10:37:57.420050",
     "status": "completed"
    },
    "tags": []
   },
   "outputs": [
    {
     "data": {
      "text/plain": [
       "GridSearchCV(cv=10, estimator=SVC(),\n",
       "             param_grid={'gamma': ['scale'], 'kernel': ['linear', 'rbf']})"
      ]
     },
     "execution_count": 34,
     "metadata": {},
     "output_type": "execute_result"
    }
   ],
   "source": [
    "svc_cv = GridSearchCV(SVC(), parameters, cv=10)\n",
    "svc_cv.fit(X_train,y_train)"
   ]
  },
  {
   "cell_type": "markdown",
   "id": "61d10e74",
   "metadata": {
    "papermill": {
     "duration": 0.034003,
     "end_time": "2022-05-31T10:38:15.212682",
     "exception": false,
     "start_time": "2022-05-31T10:38:15.178679",
     "status": "completed"
    },
    "tags": []
   },
   "source": [
    "### Accuracy"
   ]
  },
  {
   "cell_type": "code",
   "execution_count": 35,
   "id": "91816210",
   "metadata": {
    "execution": {
     "iopub.execute_input": "2022-05-31T10:38:15.283517Z",
     "iopub.status.busy": "2022-05-31T10:38:15.282946Z",
     "iopub.status.idle": "2022-05-31T10:38:15.289258Z",
     "shell.execute_reply": "2022-05-31T10:38:15.288202Z"
    },
    "papermill": {
     "duration": 0.043934,
     "end_time": "2022-05-31T10:38:15.291335",
     "exception": false,
     "start_time": "2022-05-31T10:38:15.247401",
     "status": "completed"
    },
    "tags": []
   },
   "outputs": [
    {
     "name": "stdout",
     "output_type": "stream",
     "text": [
      "Accuracy: 0.7270588235294119\n",
      "Best kernel: linear\n",
      "Best Gamma: scale\n"
     ]
    }
   ],
   "source": [
    "print(\"Accuracy:\",svc_cv.best_score_)\n",
    "print(\"Best kernel:\",svc_cv.best_estimator_.kernel)\n",
    "print(\"Best Gamma:\",svc_cv.best_estimator_.gamma)"
   ]
  },
  {
   "cell_type": "code",
   "execution_count": 36,
   "id": "9e9c101a",
   "metadata": {
    "execution": {
     "iopub.execute_input": "2022-05-31T10:38:15.362115Z",
     "iopub.status.busy": "2022-05-31T10:38:15.361579Z",
     "iopub.status.idle": "2022-05-31T10:38:15.402887Z",
     "shell.execute_reply": "2022-05-31T10:38:15.401767Z"
    },
    "papermill": {
     "duration": 0.079778,
     "end_time": "2022-05-31T10:38:15.405279",
     "exception": false,
     "start_time": "2022-05-31T10:38:15.325501",
     "status": "completed"
    },
    "tags": []
   },
   "outputs": [],
   "source": [
    "classifierSVC = svc_cv.best_estimator_\n",
    "Y_pred = classifierSVC.predict(X_test)"
   ]
  },
  {
   "cell_type": "markdown",
   "id": "ec1472da",
   "metadata": {
    "papermill": {
     "duration": 0.03414,
     "end_time": "2022-05-31T10:38:15.474339",
     "exception": false,
     "start_time": "2022-05-31T10:38:15.440199",
     "status": "completed"
    },
    "tags": []
   },
   "source": [
    "### Confusion Matrix"
   ]
  },
  {
   "cell_type": "code",
   "execution_count": 37,
   "id": "b7c9de9e",
   "metadata": {
    "execution": {
     "iopub.execute_input": "2022-05-31T10:38:15.545420Z",
     "iopub.status.busy": "2022-05-31T10:38:15.544781Z",
     "iopub.status.idle": "2022-05-31T10:38:15.551522Z",
     "shell.execute_reply": "2022-05-31T10:38:15.550573Z"
    },
    "papermill": {
     "duration": 0.044685,
     "end_time": "2022-05-31T10:38:15.553773",
     "exception": false,
     "start_time": "2022-05-31T10:38:15.509088",
     "status": "completed"
    },
    "tags": []
   },
   "outputs": [],
   "source": [
    "# Making the Confusion Matrix\n",
    "cm = confusion_matrix(y_test, Y_pred)"
   ]
  },
  {
   "cell_type": "code",
   "execution_count": 38,
   "id": "262bc696",
   "metadata": {
    "execution": {
     "iopub.execute_input": "2022-05-31T10:38:15.624402Z",
     "iopub.status.busy": "2022-05-31T10:38:15.623917Z",
     "iopub.status.idle": "2022-05-31T10:38:15.819927Z",
     "shell.execute_reply": "2022-05-31T10:38:15.818949Z"
    },
    "papermill": {
     "duration": 0.234832,
     "end_time": "2022-05-31T10:38:15.822661",
     "exception": false,
     "start_time": "2022-05-31T10:38:15.587829",
     "status": "completed"
    },
    "tags": []
   },
   "outputs": [
    {
     "data": {
      "text/plain": [
       "<AxesSubplot:>"
      ]
     },
     "execution_count": 38,
     "metadata": {},
     "output_type": "execute_result"
    },
    {
     "data": {
      "image/png": "[encoded data removed]",
      "text/plain": [
       "<Figure size 432x288 with 2 Axes>"
      ]
     },
     "metadata": {
      "needs_background": "light"
     },
     "output_type": "display_data"
    }
   ],
   "source": [
    "sns.heatmap(cm, annot=True,fmt='d')"
   ]
  },
  {
   "cell_type": "markdown",
   "id": "ced9c5ad",
   "metadata": {
    "papermill": {
     "duration": 0.035078,
     "end_time": "2022-05-31T10:38:15.894582",
     "exception": false,
     "start_time": "2022-05-31T10:38:15.859504",
     "status": "completed"
    },
    "tags": []
   },
   "source": [
    "### Classification Report"
   ]
  },
  {
   "cell_type": "code",
   "execution_count": 39,
   "id": "3cb36d74",
   "metadata": {
    "execution": {
     "iopub.execute_input": "2022-05-31T10:38:15.968849Z",
     "iopub.status.busy": "2022-05-31T10:38:15.968021Z",
     "iopub.status.idle": "2022-05-31T10:38:15.978827Z",
     "shell.execute_reply": "2022-05-31T10:38:15.977828Z"
    },
    "papermill": {
     "duration": 0.050981,
     "end_time": "2022-05-31T10:38:15.981223",
     "exception": false,
     "start_time": "2022-05-31T10:38:15.930242",
     "status": "completed"
    },
    "tags": []
   },
   "outputs": [
    {
     "name": "stdout",
     "output_type": "stream",
     "text": [
      "              precision    recall  f1-score   support\n",
      "\n",
      "         0.0       0.51      0.33      0.40       129\n",
      "         1.0       0.00      0.00      0.00         9\n",
      "         2.0       0.73      0.86      0.79       288\n",
      "\n",
      "    accuracy                           0.68       426\n",
      "   macro avg       0.41      0.40      0.40       426\n",
      "weighted avg       0.64      0.68      0.65       426\n",
      "\n"
     ]
    }
   ],
   "source": [
    "print(classification_report(y_test, Y_pred))"
   ]
  },
  {
   "cell_type": "code",
   "execution_count": 40,
   "id": "6637a541",
   "metadata": {
    "execution": {
     "iopub.execute_input": "2022-05-31T10:38:16.054621Z",
     "iopub.status.busy": "2022-05-31T10:38:16.054173Z",
     "iopub.status.idle": "2022-05-31T10:38:16.362852Z",
     "shell.execute_reply": "2022-05-31T10:38:16.361372Z"
    },
    "papermill": {
     "duration": 0.349108,
     "end_time": "2022-05-31T10:38:16.365720",
     "exception": false,
     "start_time": "2022-05-31T10:38:16.016612",
     "status": "completed"
    },
    "tags": []
   },
   "outputs": [
    {
     "name": "stdout",
     "output_type": "stream",
     "text": [
      "Training Score:  0.7364705882352941\n",
      "Testing Score:  0.6830985915492958\n"
     ]
    }
   ],
   "source": [
    "print(\"Training Score: \", classifierSVC.score(X_train, y_train))\n",
    "print(\"Testing Score: \", classifierSVC.score(X_test, y_test))"
   ]
  },
  {
   "cell_type": "markdown",
   "id": "79d2ac69",
   "metadata": {
    "papermill": {
     "duration": 0.034016,
     "end_time": "2022-05-31T10:38:16.435796",
     "exception": false,
     "start_time": "2022-05-31T10:38:16.401780",
     "status": "completed"
    },
    "tags": []
   },
   "source": [
    "### K Fold Cross Validation"
   ]
  },
  {
   "cell_type": "code",
   "execution_count": 41,
   "id": "4da523d0",
   "metadata": {
    "execution": {
     "iopub.execute_input": "2022-05-31T10:38:16.507211Z",
     "iopub.status.busy": "2022-05-31T10:38:16.506837Z",
     "iopub.status.idle": "2022-05-31T10:38:17.003250Z",
     "shell.execute_reply": "2022-05-31T10:38:17.001569Z"
    },
    "papermill": {
     "duration": 0.534904,
     "end_time": "2022-05-31T10:38:17.005554",
     "exception": false,
     "start_time": "2022-05-31T10:38:16.470650",
     "status": "completed"
    },
    "tags": []
   },
   "outputs": [
    {
     "name": "stdout",
     "output_type": "stream",
     "text": [
      "Accuracy: 70.81 %\n",
      "Standard Deviation: 6.08 %\n"
     ]
    }
   ],
   "source": [
    "accuracies = cross_val_score(estimator = classifierSVC, X = X_val, y = y_val, cv = 10)\n",
    "print(\"Accuracy: {:.2f} %\".format(accuracies.mean()*100))\n",
    "print(\"Standard Deviation: {:.2f} %\".format(accuracies.std()*100))"
   ]
  },
  {
   "cell_type": "markdown",
   "id": "ddc8d5cc",
   "metadata": {
    "papermill": {
     "duration": 0.034732,
     "end_time": "2022-05-31T10:38:17.075121",
     "exception": false,
     "start_time": "2022-05-31T10:38:17.040389",
     "status": "completed"
    },
    "tags": []
   },
   "source": [
    "## Implementation using Random Forest Classifier"
   ]
  },
  {
   "cell_type": "markdown",
   "id": "c4b9764c",
   "metadata": {
    "papermill": {
     "duration": 0.035159,
     "end_time": "2022-05-31T10:38:17.145482",
     "exception": false,
     "start_time": "2022-05-31T10:38:17.110323",
     "status": "completed"
    },
    "tags": []
   },
   "source": [
    "### Hyperparameter tuning using Grid Search and Cross Validation"
   ]
  },
  {
   "cell_type": "code",
   "execution_count": 42,
   "id": "41fb52ae",
   "metadata": {
    "execution": {
     "iopub.execute_input": "2022-05-31T10:38:17.222314Z",
     "iopub.status.busy": "2022-05-31T10:38:17.221674Z",
     "iopub.status.idle": "2022-05-31T10:38:17.226187Z",
     "shell.execute_reply": "2022-05-31T10:38:17.225512Z"
    },
    "papermill": {
     "duration": 0.045494,
     "end_time": "2022-05-31T10:38:17.228432",
     "exception": false,
     "start_time": "2022-05-31T10:38:17.182938",
     "status": "completed"
    },
    "tags": []
   },
   "outputs": [],
   "source": [
    "parameters = {'n_estimators': [100, 200], 'criterion': ['gini', 'entropy'], 'max_features': ['sqrt', 'log2']}"
   ]
  },
  {
   "cell_type": "markdown",
   "id": "ae947417",
   "metadata": {
    "papermill": {
     "duration": 0.034735,
     "end_time": "2022-05-31T10:38:17.298473",
     "exception": false,
     "start_time": "2022-05-31T10:38:17.263738",
     "status": "completed"
    },
    "tags": []
   },
   "source": [
    "### Training Model"
   ]
  },
  {
   "cell_type": "code",
   "execution_count": 43,
   "id": "cf2579f1",
   "metadata": {
    "execution": {
     "iopub.execute_input": "2022-05-31T10:38:17.369898Z",
     "iopub.status.busy": "2022-05-31T10:38:17.369273Z",
     "iopub.status.idle": "2022-05-31T10:39:14.158986Z",
     "shell.execute_reply": "2022-05-31T10:39:14.157903Z"
    },
    "papermill": {
     "duration": 56.862729,
     "end_time": "2022-05-31T10:39:14.195805",
     "exception": false,
     "start_time": "2022-05-31T10:38:17.333076",
     "status": "completed"
    },
    "tags": []
   },
   "outputs": [
    {
     "data": {
      "text/plain": [
       "GridSearchCV(cv=10, estimator=RandomForestClassifier(),\n",
       "             param_grid={'criterion': ['gini', 'entropy'],\n",
       "                         'max_features': ['sqrt', 'log2'],\n",
       "                         'n_estimators': [100, 200]})"
      ]
     },
     "execution_count": 43,
     "metadata": {},
     "output_type": "execute_result"
    }
   ],
   "source": [
    "rf_cv = GridSearchCV(RandomForestClassifier(), parameters, cv=10)\n",
    "rf_cv.fit(X_train,y_train)"
   ]
  },
  {
   "cell_type": "markdown",
   "id": "b62f8e3f",
   "metadata": {
    "papermill": {
     "duration": 0.034204,
     "end_time": "2022-05-31T10:39:14.264684",
     "exception": false,
     "start_time": "2022-05-31T10:39:14.230480",
     "status": "completed"
    },
    "tags": []
   },
   "source": [
    "### Accuracy"
   ]
  },
  {
   "cell_type": "code",
   "execution_count": 44,
   "id": "3fbbfeb2",
   "metadata": {
    "execution": {
     "iopub.execute_input": "2022-05-31T10:39:14.335429Z",
     "iopub.status.busy": "2022-05-31T10:39:14.335036Z",
     "iopub.status.idle": "2022-05-31T10:39:14.340968Z",
     "shell.execute_reply": "2022-05-31T10:39:14.339907Z"
    },
    "papermill": {
     "duration": 0.04394,
     "end_time": "2022-05-31T10:39:14.343338",
     "exception": false,
     "start_time": "2022-05-31T10:39:14.299398",
     "status": "completed"
    },
    "tags": []
   },
   "outputs": [
    {
     "name": "stdout",
     "output_type": "stream",
     "text": [
      "Accuracy: 0.7205882352941175\n",
      "Best Criterion: gini\n",
      "Best Max Features: log2\n",
      "Best N Estimators: 200\n"
     ]
    }
   ],
   "source": [
    "print(\"Accuracy:\",rf_cv.best_score_)\n",
    "print(\"Best Criterion:\",rf_cv.best_estimator_.criterion)\n",
    "print(\"Best Max Features:\",rf_cv.best_estimator_.max_features)\n",
    "print(\"Best N Estimators:\",rf_cv.best_estimator_.n_estimators)"
   ]
  },
  {
   "cell_type": "code",
   "execution_count": 45,
   "id": "fed185d8",
   "metadata": {
    "execution": {
     "iopub.execute_input": "2022-05-31T10:39:14.414714Z",
     "iopub.status.busy": "2022-05-31T10:39:14.414249Z",
     "iopub.status.idle": "2022-05-31T10:39:14.471006Z",
     "shell.execute_reply": "2022-05-31T10:39:14.470024Z"
    },
    "papermill": {
     "duration": 0.095012,
     "end_time": "2022-05-31T10:39:14.473306",
     "exception": false,
     "start_time": "2022-05-31T10:39:14.378294",
     "status": "completed"
    },
    "tags": []
   },
   "outputs": [],
   "source": [
    "classifierRF = rf_cv.best_estimator_\n",
    "Y_pred = classifierRF.predict(X_test)"
   ]
  },
  {
   "cell_type": "markdown",
   "id": "0689c5d9",
   "metadata": {
    "papermill": {
     "duration": 0.034122,
     "end_time": "2022-05-31T10:39:14.542385",
     "exception": false,
     "start_time": "2022-05-31T10:39:14.508263",
     "status": "completed"
    },
    "tags": []
   },
   "source": [
    "### Confusion Matrix"
   ]
  },
  {
   "cell_type": "code",
   "execution_count": 46,
   "id": "ecb07831",
   "metadata": {
    "execution": {
     "iopub.execute_input": "2022-05-31T10:39:14.613603Z",
     "iopub.status.busy": "2022-05-31T10:39:14.612939Z",
     "iopub.status.idle": "2022-05-31T10:39:14.618059Z",
     "shell.execute_reply": "2022-05-31T10:39:14.617435Z"
    },
    "papermill": {
     "duration": 0.04294,
     "end_time": "2022-05-31T10:39:14.619965",
     "exception": false,
     "start_time": "2022-05-31T10:39:14.577025",
     "status": "completed"
    },
    "tags": []
   },
   "outputs": [],
   "source": [
    "# Making the Confusion Matrix\n",
    "cm = confusion_matrix(y_test, Y_pred)"
   ]
  },
  {
   "cell_type": "code",
   "execution_count": 47,
   "id": "f879d129",
   "metadata": {
    "execution": {
     "iopub.execute_input": "2022-05-31T10:39:14.691256Z",
     "iopub.status.busy": "2022-05-31T10:39:14.690847Z",
     "iopub.status.idle": "2022-05-31T10:39:14.873597Z",
     "shell.execute_reply": "2022-05-31T10:39:14.871748Z"
    },
    "papermill": {
     "duration": 0.221207,
     "end_time": "2022-05-31T10:39:14.875951",
     "exception": false,
     "start_time": "2022-05-31T10:39:14.654744",
     "status": "completed"
    },
    "tags": []
   },
   "outputs": [
    {
     "data": {
      "text/plain": [
       "<AxesSubplot:>"
      ]
     },
     "execution_count": 47,
     "metadata": {},
     "output_type": "execute_result"
    },
    {
     "data": {
      "image/png": "[encoded data removed]",
      "text/plain": [
       "<Figure size 432x288 with 2 Axes>"
      ]
     },
     "metadata": {
      "needs_background": "light"
     },
     "output_type": "display_data"
    }
   ],
   "source": [
    "sns.heatmap(cm, annot=True,fmt='d')"
   ]
  },
  {
   "cell_type": "markdown",
   "id": "592c4e8c",
   "metadata": {
    "papermill": {
     "duration": 0.034653,
     "end_time": "2022-05-31T10:39:14.945770",
     "exception": false,
     "start_time": "2022-05-31T10:39:14.911117",
     "status": "completed"
    },
    "tags": []
   },
   "source": [
    "### Classification Report"
   ]
  },
  {
   "cell_type": "code",
   "execution_count": 48,
   "id": "068c3efb",
   "metadata": {
    "execution": {
     "iopub.execute_input": "2022-05-31T10:39:15.017097Z",
     "iopub.status.busy": "2022-05-31T10:39:15.016692Z",
     "iopub.status.idle": "2022-05-31T10:39:15.029499Z",
     "shell.execute_reply": "2022-05-31T10:39:15.028540Z"
    },
    "papermill": {
     "duration": 0.051301,
     "end_time": "2022-05-31T10:39:15.032047",
     "exception": false,
     "start_time": "2022-05-31T10:39:14.980746",
     "status": "completed"
    },
    "tags": []
   },
   "outputs": [
    {
     "name": "stdout",
     "output_type": "stream",
     "text": [
      "              precision    recall  f1-score   support\n",
      "\n",
      "         0.0       0.54      0.41      0.47       129\n",
      "         1.0       0.00      0.00      0.00         9\n",
      "         2.0       0.75      0.85      0.80       288\n",
      "\n",
      "    accuracy                           0.70       426\n",
      "   macro avg       0.43      0.42      0.42       426\n",
      "weighted avg       0.67      0.70      0.68       426\n",
      "\n"
     ]
    }
   ],
   "source": [
    "print(classification_report(y_test, Y_pred))"
   ]
  },
  {
   "cell_type": "code",
   "execution_count": 49,
   "id": "83fba7fa",
   "metadata": {
    "execution": {
     "iopub.execute_input": "2022-05-31T10:39:15.106237Z",
     "iopub.status.busy": "2022-05-31T10:39:15.105188Z",
     "iopub.status.idle": "2022-05-31T10:39:15.331588Z",
     "shell.execute_reply": "2022-05-31T10:39:15.330527Z"
    },
    "papermill": {
     "duration": 0.266132,
     "end_time": "2022-05-31T10:39:15.334562",
     "exception": false,
     "start_time": "2022-05-31T10:39:15.068430",
     "status": "completed"
    },
    "tags": []
   },
   "outputs": [
    {
     "name": "stdout",
     "output_type": "stream",
     "text": [
      "Training Score:  0.9982352941176471\n",
      "Testing Score:  0.6995305164319249\n"
     ]
    }
   ],
   "source": [
    "print(\"Training Score: \", classifierRF.score(X_train, y_train))\n",
    "print(\"Testing Score: \", classifierRF.score(X_test, y_test))"
   ]
  },
  {
   "cell_type": "markdown",
   "id": "0daa7ab3",
   "metadata": {
    "papermill": {
     "duration": 0.035704,
     "end_time": "2022-05-31T10:39:15.406108",
     "exception": false,
     "start_time": "2022-05-31T10:39:15.370404",
     "status": "completed"
    },
    "tags": []
   },
   "source": [
    "### K Fold Cross Validation"
   ]
  },
  {
   "cell_type": "code",
   "execution_count": 50,
   "id": "4ed9f1e0",
   "metadata": {
    "execution": {
     "iopub.execute_input": "2022-05-31T10:39:15.479753Z",
     "iopub.status.busy": "2022-05-31T10:39:15.479108Z",
     "iopub.status.idle": "2022-05-31T10:39:19.622273Z",
     "shell.execute_reply": "2022-05-31T10:39:19.621198Z"
    },
    "papermill": {
     "duration": 4.183819,
     "end_time": "2022-05-31T10:39:19.625476",
     "exception": false,
     "start_time": "2022-05-31T10:39:15.441657",
     "status": "completed"
    },
    "tags": []
   },
   "outputs": [
    {
     "name": "stdout",
     "output_type": "stream",
     "text": [
      "Accuracy: 72.25 %\n",
      "Standard Deviation: 4.60 %\n"
     ]
    }
   ],
   "source": [
    "accuracies = cross_val_score(estimator = classifierRF, X = X_val, y = y_val, cv = 10)\n",
    "print(\"Accuracy: {:.2f} %\".format(accuracies.mean()*100))\n",
    "print(\"Standard Deviation: {:.2f} %\".format(accuracies.std()*100))"
   ]
  },
  {
   "cell_type": "markdown",
   "id": "f35c0e42",
   "metadata": {
    "papermill": {
     "duration": 0.036708,
     "end_time": "2022-05-31T10:39:19.698836",
     "exception": false,
     "start_time": "2022-05-31T10:39:19.662128",
     "status": "completed"
    },
    "tags": []
   },
   "source": [
    "## Implementation using Decision Tree"
   ]
  },
  {
   "cell_type": "markdown",
   "id": "e128faa3",
   "metadata": {
    "papermill": {
     "duration": 0.03651,
     "end_time": "2022-05-31T10:39:19.770736",
     "exception": false,
     "start_time": "2022-05-31T10:39:19.734226",
     "status": "completed"
    },
    "tags": []
   },
   "source": [
    "### Hyperparameter tuning using Grid Search and Cross Validation"
   ]
  },
  {
   "cell_type": "code",
   "execution_count": 51,
   "id": "33d9d58d",
   "metadata": {
    "execution": {
     "iopub.execute_input": "2022-05-31T10:39:19.844553Z",
     "iopub.status.busy": "2022-05-31T10:39:19.843928Z",
     "iopub.status.idle": "2022-05-31T10:39:19.848309Z",
     "shell.execute_reply": "2022-05-31T10:39:19.847692Z"
    },
    "papermill": {
     "duration": 0.043209,
     "end_time": "2022-05-31T10:39:19.850051",
     "exception": false,
     "start_time": "2022-05-31T10:39:19.806842",
     "status": "completed"
    },
    "tags": []
   },
   "outputs": [],
   "source": [
    "parameters = {'splitter': ['best', 'random'], 'criterion': ['gini', 'entropy'], 'max_features': ['sqrt', 'log2']}"
   ]
  },
  {
   "cell_type": "markdown",
   "id": "50c07e26",
   "metadata": {
    "papermill": {
     "duration": 0.03572,
     "end_time": "2022-05-31T10:39:19.921741",
     "exception": false,
     "start_time": "2022-05-31T10:39:19.886021",
     "status": "completed"
    },
    "tags": []
   },
   "source": [
    "### Training Model"
   ]
  },
  {
   "cell_type": "code",
   "execution_count": 52,
   "id": "6c70df7d",
   "metadata": {
    "execution": {
     "iopub.execute_input": "2022-05-31T10:39:19.994452Z",
     "iopub.status.busy": "2022-05-31T10:39:19.993823Z",
     "iopub.status.idle": "2022-05-31T10:39:20.791322Z",
     "shell.execute_reply": "2022-05-31T10:39:20.790381Z"
    },
    "papermill": {
     "duration": 0.836253,
     "end_time": "2022-05-31T10:39:20.793279",
     "exception": false,
     "start_time": "2022-05-31T10:39:19.957026",
     "status": "completed"
    },
    "tags": []
   },
   "outputs": [
    {
     "data": {
      "text/plain": [
       "GridSearchCV(cv=10, estimator=DecisionTreeClassifier(),\n",
       "             param_grid={'criterion': ['gini', 'entropy'],\n",
       "                         'max_features': ['sqrt', 'log2'],\n",
       "                         'splitter': ['best', 'random']})"
      ]
     },
     "execution_count": 52,
     "metadata": {},
     "output_type": "execute_result"
    }
   ],
   "source": [
    "dt_cv = GridSearchCV(DecisionTreeClassifier(), parameters, cv=10)\n",
    "dt_cv.fit(X_train,y_train)"
   ]
  },
  {
   "cell_type": "markdown",
   "id": "3b7b3860",
   "metadata": {
    "papermill": {
     "duration": 0.035247,
     "end_time": "2022-05-31T10:39:20.864185",
     "exception": false,
     "start_time": "2022-05-31T10:39:20.828938",
     "status": "completed"
    },
    "tags": []
   },
   "source": [
    "### Accuracy"
   ]
  },
  {
   "cell_type": "code",
   "execution_count": 53,
   "id": "2db5398f",
   "metadata": {
    "execution": {
     "iopub.execute_input": "2022-05-31T10:39:20.937590Z",
     "iopub.status.busy": "2022-05-31T10:39:20.936825Z",
     "iopub.status.idle": "2022-05-31T10:39:20.943742Z",
     "shell.execute_reply": "2022-05-31T10:39:20.942427Z"
    },
    "papermill": {
     "duration": 0.045848,
     "end_time": "2022-05-31T10:39:20.945719",
     "exception": false,
     "start_time": "2022-05-31T10:39:20.899871",
     "status": "completed"
    },
    "tags": []
   },
   "outputs": [
    {
     "name": "stdout",
     "output_type": "stream",
     "text": [
      "Accuracy: 0.6791176470588236\n",
      "Best Splitter: best\n",
      "Best Criterion: entropy\n",
      "Best Max Features: sqrt\n"
     ]
    }
   ],
   "source": [
    "print(\"Accuracy:\",dt_cv.best_score_)\n",
    "print(\"Best Splitter:\",dt_cv.best_estimator_.splitter)\n",
    "print(\"Best Criterion:\",dt_cv.best_estimator_.criterion)\n",
    "print(\"Best Max Features:\",dt_cv.best_estimator_.max_features)"
   ]
  },
  {
   "cell_type": "code",
   "execution_count": 54,
   "id": "9a1bb70f",
   "metadata": {
    "execution": {
     "iopub.execute_input": "2022-05-31T10:39:21.018922Z",
     "iopub.status.busy": "2022-05-31T10:39:21.018167Z",
     "iopub.status.idle": "2022-05-31T10:39:21.025104Z",
     "shell.execute_reply": "2022-05-31T10:39:21.024424Z"
    },
    "papermill": {
     "duration": 0.045711,
     "end_time": "2022-05-31T10:39:21.027099",
     "exception": false,
     "start_time": "2022-05-31T10:39:20.981388",
     "status": "completed"
    },
    "tags": []
   },
   "outputs": [],
   "source": [
    "classifierDT = dt_cv.best_estimator_\n",
    "Y_pred = classifierDT.predict(X_test)"
   ]
  },
  {
   "cell_type": "markdown",
   "id": "6f75d353",
   "metadata": {
    "papermill": {
     "duration": 0.035373,
     "end_time": "2022-05-31T10:39:21.097971",
     "exception": false,
     "start_time": "2022-05-31T10:39:21.062598",
     "status": "completed"
    },
    "tags": []
   },
   "source": [
    "### Confusion Matrix"
   ]
  },
  {
   "cell_type": "code",
   "execution_count": 55,
   "id": "73a3b98e",
   "metadata": {
    "execution": {
     "iopub.execute_input": "2022-05-31T10:39:21.171244Z",
     "iopub.status.busy": "2022-05-31T10:39:21.170886Z",
     "iopub.status.idle": "2022-05-31T10:39:21.176630Z",
     "shell.execute_reply": "2022-05-31T10:39:21.175535Z"
    },
    "papermill": {
     "duration": 0.044972,
     "end_time": "2022-05-31T10:39:21.178715",
     "exception": false,
     "start_time": "2022-05-31T10:39:21.133743",
     "status": "completed"
    },
    "tags": []
   },
   "outputs": [],
   "source": [
    "# Making the Confusion Matrix\n",
    "cm = confusion_matrix(y_test, Y_pred)"
   ]
  },
  {
   "cell_type": "code",
   "execution_count": 56,
   "id": "29d916dd",
   "metadata": {
    "execution": {
     "iopub.execute_input": "2022-05-31T10:39:21.252490Z",
     "iopub.status.busy": "2022-05-31T10:39:21.251874Z",
     "iopub.status.idle": "2022-05-31T10:39:21.445451Z",
     "shell.execute_reply": "2022-05-31T10:39:21.444784Z"
    },
    "papermill": {
     "duration": 0.232707,
     "end_time": "2022-05-31T10:39:21.447480",
     "exception": false,
     "start_time": "2022-05-31T10:39:21.214773",
     "status": "completed"
    },
    "tags": []
   },
   "outputs": [
    {
     "data": {
      "text/plain": [
       "<AxesSubplot:>"
      ]
     },
     "execution_count": 56,
     "metadata": {},
     "output_type": "execute_result"
    },
    {
     "data": {
      "image/png": "[encoded data removed]",
      "text/plain": [
       "<Figure size 432x288 with 2 Axes>"
      ]
     },
     "metadata": {
      "needs_background": "light"
     },
     "output_type": "display_data"
    }
   ],
   "source": [
    "sns.heatmap(cm, annot=True,fmt='d')"
   ]
  },
  {
   "cell_type": "markdown",
   "id": "44fc027b",
   "metadata": {
    "papermill": {
     "duration": 0.035493,
     "end_time": "2022-05-31T10:39:21.519147",
     "exception": false,
     "start_time": "2022-05-31T10:39:21.483654",
     "status": "completed"
    },
    "tags": []
   },
   "source": [
    "### Classification Report"
   ]
  },
  {
   "cell_type": "code",
   "execution_count": 57,
   "id": "a8163615",
   "metadata": {
    "execution": {
     "iopub.execute_input": "2022-05-31T10:39:21.592957Z",
     "iopub.status.busy": "2022-05-31T10:39:21.592433Z",
     "iopub.status.idle": "2022-05-31T10:39:21.602424Z",
     "shell.execute_reply": "2022-05-31T10:39:21.600994Z"
    },
    "papermill": {
     "duration": 0.049655,
     "end_time": "2022-05-31T10:39:21.604823",
     "exception": false,
     "start_time": "2022-05-31T10:39:21.555168",
     "status": "completed"
    },
    "tags": []
   },
   "outputs": [
    {
     "name": "stdout",
     "output_type": "stream",
     "text": [
      "              precision    recall  f1-score   support\n",
      "\n",
      "         0.0       0.46      0.47      0.46       129\n",
      "         1.0       0.00      0.00      0.00         9\n",
      "         2.0       0.74      0.74      0.74       288\n",
      "\n",
      "    accuracy                           0.65       426\n",
      "   macro avg       0.40      0.41      0.40       426\n",
      "weighted avg       0.64      0.65      0.64       426\n",
      "\n"
     ]
    }
   ],
   "source": [
    "print(classification_report(y_test, Y_pred))"
   ]
  },
  {
   "cell_type": "code",
   "execution_count": 58,
   "id": "eb7a3314",
   "metadata": {
    "execution": {
     "iopub.execute_input": "2022-05-31T10:39:21.679366Z",
     "iopub.status.busy": "2022-05-31T10:39:21.678605Z",
     "iopub.status.idle": "2022-05-31T10:39:21.690768Z",
     "shell.execute_reply": "2022-05-31T10:39:21.689546Z"
    },
    "papermill": {
     "duration": 0.051868,
     "end_time": "2022-05-31T10:39:21.692826",
     "exception": false,
     "start_time": "2022-05-31T10:39:21.640958",
     "status": "completed"
    },
    "tags": []
   },
   "outputs": [
    {
     "name": "stdout",
     "output_type": "stream",
     "text": [
      "Training Score:  0.9982352941176471\n",
      "Testing Score:  0.6455399061032864\n"
     ]
    }
   ],
   "source": [
    "print(\"Training Score: \", classifierDT.score(X_train, y_train))\n",
    "print(\"Testing Score: \", classifierDT.score(X_test, y_test))"
   ]
  },
  {
   "cell_type": "markdown",
   "id": "fa768962",
   "metadata": {
    "papermill": {
     "duration": 0.036459,
     "end_time": "2022-05-31T10:39:21.765524",
     "exception": false,
     "start_time": "2022-05-31T10:39:21.729065",
     "status": "completed"
    },
    "tags": []
   },
   "source": [
    "### K Fold Cross Validation"
   ]
  },
  {
   "cell_type": "code",
   "execution_count": 59,
   "id": "f1f4d861",
   "metadata": {
    "execution": {
     "iopub.execute_input": "2022-05-31T10:39:21.839961Z",
     "iopub.status.busy": "2022-05-31T10:39:21.839590Z",
     "iopub.status.idle": "2022-05-31T10:39:21.909054Z",
     "shell.execute_reply": "2022-05-31T10:39:21.908000Z"
    },
    "papermill": {
     "duration": 0.109331,
     "end_time": "2022-05-31T10:39:21.911369",
     "exception": false,
     "start_time": "2022-05-31T10:39:21.802038",
     "status": "completed"
    },
    "tags": []
   },
   "outputs": [
    {
     "name": "stdout",
     "output_type": "stream",
     "text": [
      "Accuracy: 66.83 %\n",
      "Standard Deviation: 3.88 %\n"
     ]
    }
   ],
   "source": [
    "accuracies = cross_val_score(estimator = classifierDT, X = X_val, y = y_val, cv = 10)\n",
    "print(\"Accuracy: {:.2f} %\".format(accuracies.mean()*100))\n",
    "print(\"Standard Deviation: {:.2f} %\".format(accuracies.std()*100))"
   ]
  },
  {
   "cell_type": "markdown",
   "id": "ed6851dc",
   "metadata": {
    "papermill": {
     "duration": 0.035374,
     "end_time": "2022-05-31T10:39:21.982610",
     "exception": false,
     "start_time": "2022-05-31T10:39:21.947236",
     "status": "completed"
    },
    "tags": []
   },
   "source": [
    "## Implementation using XGBoost"
   ]
  },
  {
   "cell_type": "markdown",
   "id": "4b1ac30a",
   "metadata": {
    "papermill": {
     "duration": 0.036017,
     "end_time": "2022-05-31T10:39:22.055132",
     "exception": false,
     "start_time": "2022-05-31T10:39:22.019115",
     "status": "completed"
    },
    "tags": []
   },
   "source": [
    "### Hyperparameter tuning using Grid Search and Cross Validation"
   ]
  },
  {
   "cell_type": "code",
   "execution_count": 60,
   "id": "db4742d4",
   "metadata": {
    "execution": {
     "iopub.execute_input": "2022-05-31T10:39:22.128172Z",
     "iopub.status.busy": "2022-05-31T10:39:22.127789Z",
     "iopub.status.idle": "2022-05-31T10:39:22.132468Z",
     "shell.execute_reply": "2022-05-31T10:39:22.131676Z"
    },
    "papermill": {
     "duration": 0.043534,
     "end_time": "2022-05-31T10:39:22.134356",
     "exception": false,
     "start_time": "2022-05-31T10:39:22.090822",
     "status": "completed"
    },
    "tags": []
   },
   "outputs": [],
   "source": [
    "parameters = {'booster': ['gbtree', 'gblinear', 'dart'], 'n_estimators': [10, 50, 100]}"
   ]
  },
  {
   "cell_type": "markdown",
   "id": "b4d48ab1",
   "metadata": {
    "papermill": {
     "duration": 0.035405,
     "end_time": "2022-05-31T10:39:22.205479",
     "exception": false,
     "start_time": "2022-05-31T10:39:22.170074",
     "status": "completed"
    },
    "tags": []
   },
   "source": [
    "### Training Model"
   ]
  },
  {
   "cell_type": "code",
   "execution_count": 61,
   "id": "bebaed6f",
   "metadata": {
    "execution": {
     "iopub.execute_input": "2022-05-31T10:39:22.278604Z",
     "iopub.status.busy": "2022-05-31T10:39:22.278230Z",
     "iopub.status.idle": "2022-05-31T10:40:43.147676Z",
     "shell.execute_reply": "2022-05-31T10:40:43.146529Z"
    },
    "papermill": {
     "duration": 80.939071,
     "end_time": "2022-05-31T10:40:43.180342",
     "exception": false,
     "start_time": "2022-05-31T10:39:22.241271",
     "status": "completed"
    },
    "tags": []
   },
   "outputs": [
    {
     "data": {
      "text/plain": [
       "GridSearchCV(cv=10,\n",
       "             estimator=XGBClassifier(base_score=None, booster=None,\n",
       "                                     callbacks=None, colsample_bylevel=None,\n",
       "                                     colsample_bynode=None,\n",
       "                                     colsample_bytree=None,\n",
       "                                     early_stopping_rounds=None,\n",
       "                                     enable_categorical=False, eval_metric=None,\n",
       "                                     gamma=None, gpu_id=None, grow_policy=None,\n",
       "                                     importance_type=None,\n",
       "                                     interaction_constraints=None,\n",
       "                                     learning_rate=None, max_bin=None,\n",
       "                                     max_cat_to_onehot=None,\n",
       "                                     max_delta_step=None, max_depth=None,\n",
       "                                     max_leaves=None, min_child_weight=None,\n",
       "                                     missing=nan, monotone_constraints=None,\n",
       "                                     n_estimators=100, n_jobs=None,\n",
       "                                     num_parallel_tree=None, predictor=None,\n",
       "                                     random_state=None, reg_alpha=None,\n",
       "                                     reg_lambda=None, ...),\n",
       "             param_grid={'booster': ['gbtree', 'gblinear', 'dart'],\n",
       "                         'n_estimators': [10, 50, 100]})"
      ]
     },
     "execution_count": 61,
     "metadata": {},
     "output_type": "execute_result"
    }
   ],
   "source": [
    "xgb_cv = GridSearchCV(XGBClassifier(), parameters, cv=10)\n",
    "xgb_cv.fit(X_train,y_train)"
   ]
  },
  {
   "cell_type": "markdown",
   "id": "2f3ec968",
   "metadata": {
    "papermill": {
     "duration": 0.036189,
     "end_time": "2022-05-31T10:40:43.252567",
     "exception": false,
     "start_time": "2022-05-31T10:40:43.216378",
     "status": "completed"
    },
    "tags": []
   },
   "source": [
    "### Accuracy"
   ]
  },
  {
   "cell_type": "code",
   "execution_count": 62,
   "id": "279f9976",
   "metadata": {
    "execution": {
     "iopub.execute_input": "2022-05-31T10:40:43.326789Z",
     "iopub.status.busy": "2022-05-31T10:40:43.326393Z",
     "iopub.status.idle": "2022-05-31T10:40:43.332256Z",
     "shell.execute_reply": "2022-05-31T10:40:43.331239Z"
    },
    "papermill": {
     "duration": 0.046134,
     "end_time": "2022-05-31T10:40:43.334996",
     "exception": false,
     "start_time": "2022-05-31T10:40:43.288862",
     "status": "completed"
    },
    "tags": []
   },
   "outputs": [
    {
     "name": "stdout",
     "output_type": "stream",
     "text": [
      "Accuracy: 0.7379411764705883\n",
      "Best Booster: gbtree\n",
      "Best N Estimators: 10\n"
     ]
    }
   ],
   "source": [
    "print(\"Accuracy:\",xgb_cv.best_score_)\n",
    "print(\"Best Booster:\",xgb_cv.best_estimator_.booster)\n",
    "print(\"Best N Estimators:\",xgb_cv.best_estimator_.n_estimators)"
   ]
  },
  {
   "cell_type": "code",
   "execution_count": 63,
   "id": "75d1181c",
   "metadata": {
    "execution": {
     "iopub.execute_input": "2022-05-31T10:40:43.410987Z",
     "iopub.status.busy": "2022-05-31T10:40:43.409997Z",
     "iopub.status.idle": "2022-05-31T10:40:43.441409Z",
     "shell.execute_reply": "2022-05-31T10:40:43.433980Z"
    },
    "papermill": {
     "duration": 0.07171,
     "end_time": "2022-05-31T10:40:43.444119",
     "exception": false,
     "start_time": "2022-05-31T10:40:43.372409",
     "status": "completed"
    },
    "tags": []
   },
   "outputs": [],
   "source": [
    "classifierXGB = xgb_cv.best_estimator_\n",
    "Y_pred = classifierXGB.predict(X_test)"
   ]
  },
  {
   "cell_type": "markdown",
   "id": "d997fba7",
   "metadata": {
    "papermill": {
     "duration": 0.036505,
     "end_time": "2022-05-31T10:40:43.519771",
     "exception": false,
     "start_time": "2022-05-31T10:40:43.483266",
     "status": "completed"
    },
    "tags": []
   },
   "source": [
    "### Confusion Matrix"
   ]
  },
  {
   "cell_type": "code",
   "execution_count": 64,
   "id": "9ae3f971",
   "metadata": {
    "execution": {
     "iopub.execute_input": "2022-05-31T10:40:43.594154Z",
     "iopub.status.busy": "2022-05-31T10:40:43.593775Z",
     "iopub.status.idle": "2022-05-31T10:40:43.601054Z",
     "shell.execute_reply": "2022-05-31T10:40:43.599996Z"
    },
    "papermill": {
     "duration": 0.0471,
     "end_time": "2022-05-31T10:40:43.603245",
     "exception": false,
     "start_time": "2022-05-31T10:40:43.556145",
     "status": "completed"
    },
    "tags": []
   },
   "outputs": [],
   "source": [
    "# Making the Confusion Matrix\n",
    "cm = confusion_matrix(y_test, Y_pred)"
   ]
  },
  {
   "cell_type": "code",
   "execution_count": 65,
   "id": "c878a76b",
   "metadata": {
    "execution": {
     "iopub.execute_input": "2022-05-31T10:40:43.680320Z",
     "iopub.status.busy": "2022-05-31T10:40:43.679897Z",
     "iopub.status.idle": "2022-05-31T10:40:43.878229Z",
     "shell.execute_reply": "2022-05-31T10:40:43.877204Z"
    },
    "papermill": {
     "duration": 0.240566,
     "end_time": "2022-05-31T10:40:43.880596",
     "exception": false,
     "start_time": "2022-05-31T10:40:43.640030",
     "status": "completed"
    },
    "tags": []
   },
   "outputs": [
    {
     "data": {
      "text/plain": [
       "<AxesSubplot:>"
      ]
     },
     "execution_count": 65,
     "metadata": {},
     "output_type": "execute_result"
    },
    {
     "data": {
      "image/png": "[encoded data removed]",
      "text/plain": [
       "<Figure size 432x288 with 2 Axes>"
      ]
     },
     "metadata": {
      "needs_background": "light"
     },
     "output_type": "display_data"
    }
   ],
   "source": [
    "sns.heatmap(cm, annot=True,fmt='d')"
   ]
  },
  {
   "cell_type": "markdown",
   "id": "04f08cf3",
   "metadata": {
    "papermill": {
     "duration": 0.037169,
     "end_time": "2022-05-31T10:40:43.955488",
     "exception": false,
     "start_time": "2022-05-31T10:40:43.918319",
     "status": "completed"
    },
    "tags": []
   },
   "source": [
    "### Classification Report"
   ]
  },
  {
   "cell_type": "code",
   "execution_count": 66,
   "id": "159d0343",
   "metadata": {
    "execution": {
     "iopub.execute_input": "2022-05-31T10:40:44.032599Z",
     "iopub.status.busy": "2022-05-31T10:40:44.032041Z",
     "iopub.status.idle": "2022-05-31T10:40:44.042889Z",
     "shell.execute_reply": "2022-05-31T10:40:44.041705Z"
    },
    "papermill": {
     "duration": 0.052755,
     "end_time": "2022-05-31T10:40:44.044993",
     "exception": false,
     "start_time": "2022-05-31T10:40:43.992238",
     "status": "completed"
    },
    "tags": []
   },
   "outputs": [
    {
     "name": "stdout",
     "output_type": "stream",
     "text": [
      "              precision    recall  f1-score   support\n",
      "\n",
      "         0.0       0.59      0.43      0.49       129\n",
      "         1.0       1.00      0.11      0.20         9\n",
      "         2.0       0.76      0.87      0.81       288\n",
      "\n",
      "    accuracy                           0.72       426\n",
      "   macro avg       0.78      0.47      0.50       426\n",
      "weighted avg       0.71      0.72      0.70       426\n",
      "\n"
     ]
    }
   ],
   "source": [
    "print(classification_report(y_test, Y_pred))"
   ]
  },
  {
   "cell_type": "code",
   "execution_count": 67,
   "id": "e6046ee8",
   "metadata": {
    "execution": {
     "iopub.execute_input": "2022-05-31T10:40:44.121467Z",
     "iopub.status.busy": "2022-05-31T10:40:44.121042Z",
     "iopub.status.idle": "2022-05-31T10:40:44.144034Z",
     "shell.execute_reply": "2022-05-31T10:40:44.143278Z"
    },
    "papermill": {
     "duration": 0.06397,
     "end_time": "2022-05-31T10:40:44.146563",
     "exception": false,
     "start_time": "2022-05-31T10:40:44.082593",
     "status": "completed"
    },
    "tags": []
   },
   "outputs": [
    {
     "name": "stdout",
     "output_type": "stream",
     "text": [
      "Training Score:  0.7964705882352942\n",
      "Testing Score:  0.7206572769953051\n"
     ]
    }
   ],
   "source": [
    "print(\"Training Score: \", classifierXGB.score(X_train, y_train))\n",
    "print(\"Testing Score: \", classifierXGB.score(X_test, y_test))"
   ]
  },
  {
   "cell_type": "markdown",
   "id": "fda4741a",
   "metadata": {
    "papermill": {
     "duration": 0.036586,
     "end_time": "2022-05-31T10:40:44.222094",
     "exception": false,
     "start_time": "2022-05-31T10:40:44.185508",
     "status": "completed"
    },
    "tags": []
   },
   "source": [
    "### K Fold Cross Validation"
   ]
  },
  {
   "cell_type": "code",
   "execution_count": 68,
   "id": "5d6e5f7f",
   "metadata": {
    "execution": {
     "iopub.execute_input": "2022-05-31T10:40:44.298698Z",
     "iopub.status.busy": "2022-05-31T10:40:44.297898Z",
     "iopub.status.idle": "2022-05-31T10:40:45.047901Z",
     "shell.execute_reply": "2022-05-31T10:40:45.047115Z"
    },
    "papermill": {
     "duration": 0.790631,
     "end_time": "2022-05-31T10:40:45.050358",
     "exception": false,
     "start_time": "2022-05-31T10:40:44.259727",
     "status": "completed"
    },
    "tags": []
   },
   "outputs": [
    {
     "name": "stdout",
     "output_type": "stream",
     "text": [
      "Accuracy: 73.90 %\n",
      "Standard Deviation: 4.18 %\n"
     ]
    }
   ],
   "source": [
    "accuracies = cross_val_score(estimator = classifierXGB, X = X_val, y = y_val, cv = 10)\n",
    "print(\"Accuracy: {:.2f} %\".format(accuracies.mean()*100))\n",
    "print(\"Standard Deviation: {:.2f} %\".format(accuracies.std()*100))"
   ]
  },
  {
   "cell_type": "markdown",
   "id": "e0c7a842",
   "metadata": {
    "papermill": {
     "duration": 0.037407,
     "end_time": "2022-05-31T10:40:45.126008",
     "exception": false,
     "start_time": "2022-05-31T10:40:45.088601",
     "status": "completed"
    },
    "tags": []
   },
   "source": [
    "## StackNet"
   ]
  },
  {
   "cell_type": "code",
   "execution_count": 69,
   "id": "9abeee6d",
   "metadata": {
    "execution": {
     "iopub.execute_input": "2022-05-31T10:40:45.204177Z",
     "iopub.status.busy": "2022-05-31T10:40:45.203314Z",
     "iopub.status.idle": "2022-05-31T10:41:00.184269Z",
     "shell.execute_reply": "2022-05-31T10:41:00.183230Z"
    },
    "papermill": {
     "duration": 15.023059,
     "end_time": "2022-05-31T10:41:00.186451",
     "exception": false,
     "start_time": "2022-05-31T10:40:45.163392",
     "status": "completed"
    },
    "tags": []
   },
   "outputs": [
    {
     "data": {
      "text/plain": [
       "StackingClassifier(estimators=[('xgbr',\n",
       "                                XGBClassifier(base_score=0.5, booster='gbtree',\n",
       "                                              callbacks=None,\n",
       "                                              colsample_bylevel=1,\n",
       "                                              colsample_bynode=1,\n",
       "                                              colsample_bytree=1,\n",
       "                                              early_stopping_rounds=None,\n",
       "                                              enable_categorical=False,\n",
       "                                              eval_metric=None, gamma=0,\n",
       "                                              gpu_id=-1,\n",
       "                                              grow_policy='depthwise',\n",
       "                                              importance_type=None,\n",
       "                                              interaction_constraints='',\n",
       "                                              learning_rate=0.300000012,\n",
       "                                              max_bin...\n",
       "                                                                                 random_state=0,\n",
       "                                                                                 reg_alpha=0, ...)),\n",
       "                                                                  ('rfc',\n",
       "                                                                   RandomForestClassifier(max_features='log2',\n",
       "                                                                                          n_estimators=200)),\n",
       "                                                                  ('dtr',\n",
       "                                                                   DecisionTreeClassifier(criterion='entropy',\n",
       "                                                                                          max_features='sqrt')),\n",
       "                                                                  ('svr',\n",
       "                                                                   SVC(kernel='linear')),\n",
       "                                                                  ('lor',\n",
       "                                                                   LogisticRegression(max_iter=50,\n",
       "                                                                                      penalty='l1',\n",
       "                                                                                      solver='liblinear'))],\n",
       "                                                      final_estimator=LogisticRegression(),\n",
       "                                                      n_jobs=-1,\n",
       "                                                      passthrough=True),\n",
       "                   n_jobs=-1)"
      ]
     },
     "execution_count": 69,
     "metadata": {},
     "output_type": "execute_result"
    }
   ],
   "source": [
    "finalLayer = StackingClassifier(\n",
    "     estimators=[('xgbr', classifierXGB), \n",
    "                 ('rfc', classifierRF),\n",
    "                 ('dtr', classifierDT),\n",
    "                 ('svr', classifierSVC),\n",
    "                 ('lor', classifierLR),\n",
    "                 ],\n",
    "     final_estimator= LogisticRegression(), passthrough=True, n_jobs=-1\n",
    "    )\n",
    "multi_layer_Classifier = StackingClassifier(\n",
    "        estimators=[ \n",
    "\n",
    "                 ('xgbr', classifierXGB),\n",
    "                 ('rfc', classifierRF)],\n",
    "         final_estimator=finalLayer, passthrough=False, n_jobs=-1\n",
    "   )\n",
    "multi_layer_Classifier.fit(X_train, y_train)"
   ]
  },
  {
   "cell_type": "code",
   "execution_count": 70,
   "id": "fb86655e",
   "metadata": {
    "execution": {
     "iopub.execute_input": "2022-05-31T10:41:00.262560Z",
     "iopub.status.busy": "2022-05-31T10:41:00.262130Z",
     "iopub.status.idle": "2022-05-31T10:41:00.399815Z",
     "shell.execute_reply": "2022-05-31T10:41:00.398993Z"
    },
    "papermill": {
     "duration": 0.17852,
     "end_time": "2022-05-31T10:41:00.402166",
     "exception": false,
     "start_time": "2022-05-31T10:41:00.223646",
     "status": "completed"
    },
    "tags": []
   },
   "outputs": [],
   "source": [
    "Y_pred = multi_layer_Classifier.predict(X_test)"
   ]
  },
  {
   "cell_type": "markdown",
   "id": "f47ebed6",
   "metadata": {
    "papermill": {
     "duration": 0.037011,
     "end_time": "2022-05-31T10:41:00.476946",
     "exception": false,
     "start_time": "2022-05-31T10:41:00.439935",
     "status": "completed"
    },
    "tags": []
   },
   "source": [
    "### Confusion Matrix"
   ]
  },
  {
   "cell_type": "code",
   "execution_count": 71,
   "id": "3a2142e7",
   "metadata": {
    "execution": {
     "iopub.execute_input": "2022-05-31T10:41:00.567272Z",
     "iopub.status.busy": "2022-05-31T10:41:00.566554Z",
     "iopub.status.idle": "2022-05-31T10:41:00.571775Z",
     "shell.execute_reply": "2022-05-31T10:41:00.571133Z"
    },
    "papermill": {
     "duration": 0.053457,
     "end_time": "2022-05-31T10:41:00.573776",
     "exception": false,
     "start_time": "2022-05-31T10:41:00.520319",
     "status": "completed"
    },
    "tags": []
   },
   "outputs": [],
   "source": [
    "# Making the Confusion Matrix\n",
    "cm = confusion_matrix(y_test, Y_pred)"
   ]
  },
  {
   "cell_type": "code",
   "execution_count": 72,
   "id": "2d1e7c6f",
   "metadata": {
    "execution": {
     "iopub.execute_input": "2022-05-31T10:41:00.651817Z",
     "iopub.status.busy": "2022-05-31T10:41:00.650602Z",
     "iopub.status.idle": "2022-05-31T10:41:00.884750Z",
     "shell.execute_reply": "2022-05-31T10:41:00.883972Z"
    },
    "papermill": {
     "duration": 0.275732,
     "end_time": "2022-05-31T10:41:00.886906",
     "exception": false,
     "start_time": "2022-05-31T10:41:00.611174",
     "status": "completed"
    },
    "tags": []
   },
   "outputs": [
    {
     "data": {
      "text/plain": [
       "<AxesSubplot:>"
      ]
     },
     "execution_count": 72,
     "metadata": {},
     "output_type": "execute_result"
    },
    {
     "data": {
      "image/png": "[encoded data removed]",
      "text/plain": [
       "<Figure size 432x288 with 2 Axes>"
      ]
     },
     "metadata": {
      "needs_background": "light"
     },
     "output_type": "display_data"
    }
   ],
   "source": [
    "sns.heatmap(cm, annot=True,fmt='d')"
   ]
  },
  {
   "cell_type": "markdown",
   "id": "9887435c",
   "metadata": {
    "papermill": {
     "duration": 0.03704,
     "end_time": "2022-05-31T10:41:00.963048",
     "exception": false,
     "start_time": "2022-05-31T10:41:00.926008",
     "status": "completed"
    },
    "tags": []
   },
   "source": [
    "### Classification Report "
   ]
  },
  {
   "cell_type": "code",
   "execution_count": 73,
   "id": "6917e0d0",
   "metadata": {
    "execution": {
     "iopub.execute_input": "2022-05-31T10:41:01.042850Z",
     "iopub.status.busy": "2022-05-31T10:41:01.042088Z",
     "iopub.status.idle": "2022-05-31T10:41:01.053383Z",
     "shell.execute_reply": "2022-05-31T10:41:01.052211Z"
    },
    "papermill": {
     "duration": 0.05307,
     "end_time": "2022-05-31T10:41:01.055478",
     "exception": false,
     "start_time": "2022-05-31T10:41:01.002408",
     "status": "completed"
    },
    "tags": []
   },
   "outputs": [
    {
     "name": "stdout",
     "output_type": "stream",
     "text": [
      "              precision    recall  f1-score   support\n",
      "\n",
      "         0.0       0.51      0.34      0.41       129\n",
      "         1.0       1.00      0.11      0.20         9\n",
      "         2.0       0.73      0.86      0.79       288\n",
      "\n",
      "    accuracy                           0.69       426\n",
      "   macro avg       0.75      0.44      0.47       426\n",
      "weighted avg       0.67      0.69      0.66       426\n",
      "\n"
     ]
    }
   ],
   "source": [
    "print(classification_report(y_test, Y_pred))"
   ]
  },
  {
   "cell_type": "code",
   "execution_count": 74,
   "id": "00c2ee86",
   "metadata": {
    "execution": {
     "iopub.execute_input": "2022-05-31T10:41:01.132022Z",
     "iopub.status.busy": "2022-05-31T10:41:01.131412Z",
     "iopub.status.idle": "2022-05-31T10:41:01.137613Z",
     "shell.execute_reply": "2022-05-31T10:41:01.136521Z"
    },
    "papermill": {
     "duration": 0.046915,
     "end_time": "2022-05-31T10:41:01.139648",
     "exception": false,
     "start_time": "2022-05-31T10:41:01.092733",
     "status": "completed"
    },
    "tags": []
   },
   "outputs": [
    {
     "name": "stdout",
     "output_type": "stream",
     "text": [
      "Accuracy Score is 0.687793427230047\n"
     ]
    }
   ],
   "source": [
    "print(f\"Accuracy Score is {accuracy_score(y_test, Y_pred)}\")"
   ]
  },
  {
   "cell_type": "markdown",
   "id": "cebf3e6b",
   "metadata": {
    "papermill": {
     "duration": 0.036893,
     "end_time": "2022-05-31T10:41:01.214238",
     "exception": false,
     "start_time": "2022-05-31T10:41:01.177345",
     "status": "completed"
    },
    "tags": []
   },
   "source": [
    "### K Fold Cross Validation"
   ]
  },
  {
   "cell_type": "code",
   "execution_count": 75,
   "id": "e13521b6",
   "metadata": {
    "execution": {
     "iopub.execute_input": "2022-05-31T10:41:01.291038Z",
     "iopub.status.busy": "2022-05-31T10:41:01.290650Z",
     "iopub.status.idle": "2022-05-31T10:42:08.206892Z",
     "shell.execute_reply": "2022-05-31T10:42:08.205845Z"
    },
    "papermill": {
     "duration": 66.999856,
     "end_time": "2022-05-31T10:42:08.251574",
     "exception": false,
     "start_time": "2022-05-31T10:41:01.251718",
     "status": "completed"
    },
    "tags": []
   },
   "outputs": [
    {
     "name": "stdout",
     "output_type": "stream",
     "text": [
      "Accuracy: 69.17 %\n",
      "Standard Deviation: 3.91 %\n"
     ]
    }
   ],
   "source": [
    "accuracies = cross_val_score(estimator = multi_layer_Classifier, X = X_val, y = y_val, cv = 10)\n",
    "print(\"Accuracy: {:.2f} %\".format(accuracies.mean()*100))\n",
    "print(\"Standard Deviation: {:.2f} %\".format(accuracies.std()*100))"
   ]
  },
  {
   "cell_type": "markdown",
   "id": "6f5c91c3",
   "metadata": {
    "papermill": {
     "duration": 0.039637,
     "end_time": "2022-05-31T10:42:08.331855",
     "exception": false,
     "start_time": "2022-05-31T10:42:08.292218",
     "status": "completed"
    },
    "tags": []
   },
   "source": [
    "**Clearly XG Boost is the best model with cross-validation accuracy of 74%, and relatively low standard deviation.**"
   ]
  },
  {
   "cell_type": "markdown",
   "id": "dafb8761",
   "metadata": {
    "papermill": {
     "duration": 0.039714,
     "end_time": "2022-05-31T10:42:08.411694",
     "exception": false,
     "start_time": "2022-05-31T10:42:08.371980",
     "status": "completed"
    },
    "tags": []
   },
   "source": [
    "## Saving Files for Web App"
   ]
  },
  {
   "cell_type": "markdown",
   "id": "09e5c081",
   "metadata": {
    "papermill": {
     "duration": 0.040193,
     "end_time": "2022-05-31T10:42:08.492457",
     "exception": false,
     "start_time": "2022-05-31T10:42:08.452264",
     "status": "completed"
    },
    "tags": []
   },
   "source": [
    "### Saving Model"
   ]
  },
  {
   "cell_type": "code",
   "execution_count": 76,
   "id": "4e873364",
   "metadata": {
    "execution": {
     "iopub.execute_input": "2022-05-31T10:42:08.573987Z",
     "iopub.status.busy": "2022-05-31T10:42:08.573566Z",
     "iopub.status.idle": "2022-05-31T10:42:08.583585Z",
     "shell.execute_reply": "2022-05-31T10:42:08.582473Z"
    },
    "papermill": {
     "duration": 0.053191,
     "end_time": "2022-05-31T10:42:08.585764",
     "exception": false,
     "start_time": "2022-05-31T10:42:08.532573",
     "status": "completed"
    },
    "tags": []
   },
   "outputs": [
    {
     "data": {
      "text/plain": [
       "['XGBoost.joblib']"
      ]
     },
     "execution_count": 76,
     "metadata": {},
     "output_type": "execute_result"
    }
   ],
   "source": [
    "from joblib import dump\n",
    "dump(classifierXGB, 'XGBoost.joblib')"
   ]
  },
  {
   "cell_type": "markdown",
   "id": "a5b03219",
   "metadata": {
    "papermill": {
     "duration": 0.039749,
     "end_time": "2022-05-31T10:42:08.666116",
     "exception": false,
     "start_time": "2022-05-31T10:42:08.626367",
     "status": "completed"
    },
    "tags": []
   },
   "source": [
    "### Saving encoded variables"
   ]
  },
  {
   "cell_type": "code",
   "execution_count": 77,
   "id": "eccd4984",
   "metadata": {
    "execution": {
     "iopub.execute_input": "2022-05-31T10:42:08.751109Z",
     "iopub.status.busy": "2022-05-31T10:42:08.750320Z",
     "iopub.status.idle": "2022-05-31T10:42:08.754716Z",
     "shell.execute_reply": "2022-05-31T10:42:08.753879Z"
    },
    "papermill": {
     "duration": 0.049212,
     "end_time": "2022-05-31T10:42:08.756706",
     "exception": false,
     "start_time": "2022-05-31T10:42:08.707494",
     "status": "completed"
    },
    "tags": []
   },
   "outputs": [],
   "source": [
    "# le_dict = dict(zip(lb.classes_, lb.transform(lb.classes_)))"
   ]
  },
  {
   "cell_type": "code",
   "execution_count": 78,
   "id": "aa66d191",
   "metadata": {
    "execution": {
     "iopub.execute_input": "2022-05-31T10:42:08.839510Z",
     "iopub.status.busy": "2022-05-31T10:42:08.838805Z",
     "iopub.status.idle": "2022-05-31T10:42:08.843836Z",
     "shell.execute_reply": "2022-05-31T10:42:08.843177Z"
    },
    "papermill": {
     "duration": 0.048689,
     "end_time": "2022-05-31T10:42:08.845801",
     "exception": false,
     "start_time": "2022-05-31T10:42:08.797112",
     "status": "completed"
    },
    "tags": []
   },
   "outputs": [],
   "source": [
    "with open('winlast.pkl', 'wb') as f: \n",
    "    pickle.dump([winlast5, winlast4, winlast3, winlast2, winlast1], f)"
   ]
  },
  {
   "cell_type": "code",
   "execution_count": 79,
   "id": "13305b32",
   "metadata": {
    "execution": {
     "iopub.execute_input": "2022-05-31T10:42:08.928453Z",
     "iopub.status.busy": "2022-05-31T10:42:08.927391Z",
     "iopub.status.idle": "2022-05-31T10:42:08.932734Z",
     "shell.execute_reply": "2022-05-31T10:42:08.931955Z"
    },
    "papermill": {
     "duration": 0.048829,
     "end_time": "2022-05-31T10:42:08.934642",
     "exception": false,
     "start_time": "2022-05-31T10:42:08.885813",
     "status": "completed"
    },
    "tags": []
   },
   "outputs": [],
   "source": [
    "with open('losslast.pkl', 'wb') as f: \n",
    "    pickle.dump([losslast5, losslast4, losslast3, losslast2, losslast1], f)"
   ]
  },
  {
   "cell_type": "code",
   "execution_count": 80,
   "id": "95067255",
   "metadata": {
    "execution": {
     "iopub.execute_input": "2022-05-31T10:42:09.017409Z",
     "iopub.status.busy": "2022-05-31T10:42:09.016403Z",
     "iopub.status.idle": "2022-05-31T10:42:09.021860Z",
     "shell.execute_reply": "2022-05-31T10:42:09.021132Z"
    },
    "papermill": {
     "duration": 0.04892,
     "end_time": "2022-05-31T10:42:09.023913",
     "exception": false,
     "start_time": "2022-05-31T10:42:08.974993",
     "status": "completed"
    },
    "tags": []
   },
   "outputs": [],
   "source": [
    "with open('drawlast.pkl', 'wb') as f: \n",
    "    pickle.dump([drawlast5, drawlast4, drawlast3, drawlast2, drawlast1], f)"
   ]
  }
 ],
 "metadata": {
  "kernelspec": {
   "display_name": "Python 3 (ipykernel)",
   "language": "python",
   "name": "python3"
  },
  "language_info": {
   "codemirror_mode": {
    "name": "ipython",
    "version": 3
   },
   "file_extension": ".py",
   "mimetype": "text/x-python",
   "name": "python",
   "nbconvert_exporter": "python",
   "pygments_lexer": "ipython3",
   "version": "3.10.2"
  },
  "papermill": {
   "default_parameters": {},
   "duration": 335.59797,
   "end_time": "2022-05-31T10:42:11.686920",
   "environment_variables": {},
   "exception": null,
   "input_path": "__notebook__.ipynb",
   "output_path": "__notebook__.ipynb",
   "parameters": {},
   "start_time": "2022-05-31T10:36:36.088950",
   "version": "2.3.4"
  }
 },
 "nbformat": 4,
 "nbformat_minor": 5
}
